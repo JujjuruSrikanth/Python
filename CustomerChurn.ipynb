{
 "cells": [
  {
   "cell_type": "markdown",
   "metadata": {},
   "source": [
    "## Creating an analytical and modelling framework to predict the customer\n",
    "## Churn: 1 (Yes) / 0 (No)"
   ]
  },
  {
   "cell_type": "markdown",
   "metadata": {},
   "source": [
    "## LOADING THE REQUIRED LIBRARIES"
   ]
  },
  {
   "cell_type": "code",
   "execution_count": 1,
   "metadata": {},
   "outputs": [
    {
     "name": "stderr",
     "output_type": "stream",
     "text": [
      "Using TensorFlow backend.\n"
     ]
    }
   ],
   "source": [
    "import pandas as pd\n",
    "import numpy as np\n",
    "\n",
    "from sklearn import preprocessing\n",
    "from sklearn.impute import SimpleImputer\n",
    "from sklearn.compose import ColumnTransformer\n",
    "\n",
    "from sklearn.preprocessing import StandardScaler\n",
    "from sklearn.preprocessing import OneHotEncoder\n",
    "from sklearn.model_selection import train_test_split\n",
    "from sklearn.pipeline import Pipeline,make_pipeline\n",
    "from sklearn.model_selection import GridSearchCV\n",
    "from sklearn.ensemble import RandomForestClassifier,GradientBoostingClassifier\n",
    "from sklearn.tree import DecisionTreeClassifier\n",
    "from sklearn.svm import SVC\n",
    "from sklearn.linear_model import LogisticRegression\n",
    "from sklearn.neighbors import KNeighborsClassifier\n",
    "\n",
    "from sklearn import decomposition\n",
    "from sklearn.metrics import confusion_matrix,classification_report\n",
    "from sklearn.metrics import accuracy_score, recall_score, precision_score,f1_score,roc_auc_score,roc_curve\n",
    "\n",
    "import matplotlib.pyplot as plt\n",
    "import plotly.graph_objs as go\n",
    "from plotly.offline import init_notebook_mode, iplot, plot\n",
    "import seaborn as sns\n",
    "\n",
    "from imblearn.over_sampling import SMOTE\n",
    "\n",
    "import warnings\n",
    "warnings.filterwarnings('ignore')"
   ]
  },
  {
   "cell_type": "markdown",
   "metadata": {},
   "source": [
    "## Reading the data"
   ]
  },
  {
   "cell_type": "code",
   "execution_count": 2,
   "metadata": {},
   "outputs": [],
   "source": [
    "churn_data_train = pd.read_excel(\"train_data-1578037482430.xlsx\",header=0,na_values=['unknown'])\n",
    "churn_data_test = pd.read_excel(\"test_data-1578037501169.xlsx\",header=0,na_values=['unknown'])"
   ]
  },
  {
   "cell_type": "markdown",
   "metadata": {},
   "source": [
    "## EXPLORATORY DATA ANALYSIS"
   ]
  },
  {
   "cell_type": "markdown",
   "metadata": {},
   "source": [
    "### Displaying first 5 rows from train data"
   ]
  },
  {
   "cell_type": "code",
   "execution_count": 3,
   "metadata": {},
   "outputs": [
    {
     "data": {
      "text/html": [
       "<div>\n",
       "<style scoped>\n",
       "    .dataframe tbody tr th:only-of-type {\n",
       "        vertical-align: middle;\n",
       "    }\n",
       "\n",
       "    .dataframe tbody tr th {\n",
       "        vertical-align: top;\n",
       "    }\n",
       "\n",
       "    .dataframe thead th {\n",
       "        text-align: right;\n",
       "    }\n",
       "</style>\n",
       "<table border=\"1\" class=\"dataframe\">\n",
       "  <thead>\n",
       "    <tr style=\"text-align: right;\">\n",
       "      <th></th>\n",
       "      <th>CustomerID</th>\n",
       "      <th>CustomerName</th>\n",
       "      <th>yearofBirth</th>\n",
       "      <th>monthofBirth</th>\n",
       "      <th>dayofBirth</th>\n",
       "      <th>yearofEntry</th>\n",
       "      <th>monthofEntry</th>\n",
       "      <th>dayofEntry</th>\n",
       "      <th>Gender</th>\n",
       "      <th>Location</th>\n",
       "      <th>...</th>\n",
       "      <th>MaritalStatus</th>\n",
       "      <th>Occupation</th>\n",
       "      <th>Ownhouse</th>\n",
       "      <th>CreditScore</th>\n",
       "      <th>AccountBalance</th>\n",
       "      <th>NumberOfProducts</th>\n",
       "      <th>IsCreditCardCustomer</th>\n",
       "      <th>ActiveMember</th>\n",
       "      <th>Salary</th>\n",
       "      <th>Churn</th>\n",
       "    </tr>\n",
       "  </thead>\n",
       "  <tbody>\n",
       "    <tr>\n",
       "      <th>0</th>\n",
       "      <td>C5814651</td>\n",
       "      <td>Name_5814651</td>\n",
       "      <td>1980</td>\n",
       "      <td>5</td>\n",
       "      <td>12</td>\n",
       "      <td>2014</td>\n",
       "      <td>11</td>\n",
       "      <td>28</td>\n",
       "      <td>Male</td>\n",
       "      <td>Location11</td>\n",
       "      <td>...</td>\n",
       "      <td>divorced</td>\n",
       "      <td>management</td>\n",
       "      <td>no</td>\n",
       "      <td>716</td>\n",
       "      <td>0.00</td>\n",
       "      <td>2</td>\n",
       "      <td>1</td>\n",
       "      <td>0</td>\n",
       "      <td>189678.70</td>\n",
       "      <td>0</td>\n",
       "    </tr>\n",
       "    <tr>\n",
       "      <th>1</th>\n",
       "      <td>C6465787</td>\n",
       "      <td>Name_6465787</td>\n",
       "      <td>1986</td>\n",
       "      <td>12</td>\n",
       "      <td>28</td>\n",
       "      <td>2011</td>\n",
       "      <td>8</td>\n",
       "      <td>17</td>\n",
       "      <td>Female</td>\n",
       "      <td>Location13</td>\n",
       "      <td>...</td>\n",
       "      <td>divorced</td>\n",
       "      <td>admin.</td>\n",
       "      <td>no</td>\n",
       "      <td>568</td>\n",
       "      <td>169399.60</td>\n",
       "      <td>1</td>\n",
       "      <td>1</td>\n",
       "      <td>0</td>\n",
       "      <td>61936.22</td>\n",
       "      <td>0</td>\n",
       "    </tr>\n",
       "    <tr>\n",
       "      <th>2</th>\n",
       "      <td>C3824349</td>\n",
       "      <td>Name_3824349</td>\n",
       "      <td>1999</td>\n",
       "      <td>11</td>\n",
       "      <td>23</td>\n",
       "      <td>2013</td>\n",
       "      <td>12</td>\n",
       "      <td>9</td>\n",
       "      <td>Male</td>\n",
       "      <td>Location13</td>\n",
       "      <td>...</td>\n",
       "      <td>married</td>\n",
       "      <td>NaN</td>\n",
       "      <td>NaN</td>\n",
       "      <td>739</td>\n",
       "      <td>89750.21</td>\n",
       "      <td>1</td>\n",
       "      <td>1</td>\n",
       "      <td>0</td>\n",
       "      <td>193008.52</td>\n",
       "      <td>0</td>\n",
       "    </tr>\n",
       "    <tr>\n",
       "      <th>3</th>\n",
       "      <td>C8431888</td>\n",
       "      <td>Name_8431888</td>\n",
       "      <td>1969</td>\n",
       "      <td>4</td>\n",
       "      <td>6</td>\n",
       "      <td>2015</td>\n",
       "      <td>12</td>\n",
       "      <td>12</td>\n",
       "      <td>Female</td>\n",
       "      <td>Location11</td>\n",
       "      <td>...</td>\n",
       "      <td>married</td>\n",
       "      <td>admin.</td>\n",
       "      <td>yes</td>\n",
       "      <td>678</td>\n",
       "      <td>204510.94</td>\n",
       "      <td>1</td>\n",
       "      <td>0</td>\n",
       "      <td>1</td>\n",
       "      <td>738.88</td>\n",
       "      <td>1</td>\n",
       "    </tr>\n",
       "    <tr>\n",
       "      <th>4</th>\n",
       "      <td>C2944860</td>\n",
       "      <td>Name_2944860</td>\n",
       "      <td>1993</td>\n",
       "      <td>6</td>\n",
       "      <td>15</td>\n",
       "      <td>2012</td>\n",
       "      <td>10</td>\n",
       "      <td>10</td>\n",
       "      <td>Male</td>\n",
       "      <td>Location13</td>\n",
       "      <td>...</td>\n",
       "      <td>single</td>\n",
       "      <td>management</td>\n",
       "      <td>no</td>\n",
       "      <td>670</td>\n",
       "      <td>0.00</td>\n",
       "      <td>2</td>\n",
       "      <td>1</td>\n",
       "      <td>1</td>\n",
       "      <td>78358.94</td>\n",
       "      <td>0</td>\n",
       "    </tr>\n",
       "  </tbody>\n",
       "</table>\n",
       "<p>5 rows × 21 columns</p>\n",
       "</div>"
      ],
      "text/plain": [
       "  CustomerID  CustomerName  yearofBirth  monthofBirth  dayofBirth  \\\n",
       "0   C5814651  Name_5814651         1980             5          12   \n",
       "1   C6465787  Name_6465787         1986            12          28   \n",
       "2   C3824349  Name_3824349         1999            11          23   \n",
       "3   C8431888  Name_8431888         1969             4           6   \n",
       "4   C2944860  Name_2944860         1993             6          15   \n",
       "\n",
       "   yearofEntry  monthofEntry  dayofEntry  Gender    Location  ...  \\\n",
       "0         2014            11          28    Male  Location11  ...   \n",
       "1         2011             8          17  Female  Location13  ...   \n",
       "2         2013            12           9    Male  Location13  ...   \n",
       "3         2015            12          12  Female  Location11  ...   \n",
       "4         2012            10          10    Male  Location13  ...   \n",
       "\n",
       "  MaritalStatus  Occupation Ownhouse CreditScore  AccountBalance  \\\n",
       "0      divorced  management       no         716            0.00   \n",
       "1      divorced      admin.       no         568       169399.60   \n",
       "2       married         NaN      NaN         739        89750.21   \n",
       "3       married      admin.      yes         678       204510.94   \n",
       "4        single  management       no         670            0.00   \n",
       "\n",
       "   NumberOfProducts  IsCreditCardCustomer  ActiveMember     Salary  Churn  \n",
       "0                 2                     1             0  189678.70      0  \n",
       "1                 1                     1             0   61936.22      0  \n",
       "2                 1                     1             0  193008.52      0  \n",
       "3                 1                     0             1     738.88      1  \n",
       "4                 2                     1             1   78358.94      0  \n",
       "\n",
       "[5 rows x 21 columns]"
      ]
     },
     "execution_count": 3,
     "metadata": {},
     "output_type": "execute_result"
    }
   ],
   "source": [
    "churn_data_train.head()"
   ]
  },
  {
   "cell_type": "markdown",
   "metadata": {},
   "source": [
    "### Displaying first 5 rows from test data"
   ]
  },
  {
   "cell_type": "code",
   "execution_count": 4,
   "metadata": {},
   "outputs": [
    {
     "data": {
      "text/html": [
       "<div>\n",
       "<style scoped>\n",
       "    .dataframe tbody tr th:only-of-type {\n",
       "        vertical-align: middle;\n",
       "    }\n",
       "\n",
       "    .dataframe tbody tr th {\n",
       "        vertical-align: top;\n",
       "    }\n",
       "\n",
       "    .dataframe thead th {\n",
       "        text-align: right;\n",
       "    }\n",
       "</style>\n",
       "<table border=\"1\" class=\"dataframe\">\n",
       "  <thead>\n",
       "    <tr style=\"text-align: right;\">\n",
       "      <th></th>\n",
       "      <th>CustomerID</th>\n",
       "      <th>CustomerName</th>\n",
       "      <th>yearofBirth</th>\n",
       "      <th>monthofBirth</th>\n",
       "      <th>dayofBirth</th>\n",
       "      <th>yearofEntry</th>\n",
       "      <th>monthofEntry</th>\n",
       "      <th>dayofEntry</th>\n",
       "      <th>Gender</th>\n",
       "      <th>Location</th>\n",
       "      <th>Education</th>\n",
       "      <th>MaritalStatus</th>\n",
       "      <th>Occupation</th>\n",
       "      <th>Ownhouse</th>\n",
       "      <th>CreditScore</th>\n",
       "      <th>AccountBalance</th>\n",
       "      <th>NumberOfProducts</th>\n",
       "      <th>IsCreditCardCustomer</th>\n",
       "      <th>ActiveMember</th>\n",
       "      <th>Salary</th>\n",
       "    </tr>\n",
       "  </thead>\n",
       "  <tbody>\n",
       "    <tr>\n",
       "      <th>0</th>\n",
       "      <td>C5993228</td>\n",
       "      <td>Name_5993228</td>\n",
       "      <td>1972</td>\n",
       "      <td>5</td>\n",
       "      <td>5</td>\n",
       "      <td>2015</td>\n",
       "      <td>12</td>\n",
       "      <td>16</td>\n",
       "      <td>Male</td>\n",
       "      <td>Location13</td>\n",
       "      <td>NaN</td>\n",
       "      <td>single</td>\n",
       "      <td>management</td>\n",
       "      <td>yes</td>\n",
       "      <td>624</td>\n",
       "      <td>0.00</td>\n",
       "      <td>2</td>\n",
       "      <td>1</td>\n",
       "      <td>1</td>\n",
       "      <td>62825.03</td>\n",
       "    </tr>\n",
       "    <tr>\n",
       "      <th>1</th>\n",
       "      <td>C6546925</td>\n",
       "      <td>Name_6546925</td>\n",
       "      <td>1990</td>\n",
       "      <td>12</td>\n",
       "      <td>27</td>\n",
       "      <td>2016</td>\n",
       "      <td>11</td>\n",
       "      <td>26</td>\n",
       "      <td>Female</td>\n",
       "      <td>Location11</td>\n",
       "      <td>primary</td>\n",
       "      <td>married</td>\n",
       "      <td>admin.</td>\n",
       "      <td>yes</td>\n",
       "      <td>777</td>\n",
       "      <td>134571.50</td>\n",
       "      <td>1</td>\n",
       "      <td>0</td>\n",
       "      <td>1</td>\n",
       "      <td>118313.38</td>\n",
       "    </tr>\n",
       "    <tr>\n",
       "      <th>2</th>\n",
       "      <td>C7491750</td>\n",
       "      <td>Name_7491750</td>\n",
       "      <td>1966</td>\n",
       "      <td>7</td>\n",
       "      <td>25</td>\n",
       "      <td>2011</td>\n",
       "      <td>10</td>\n",
       "      <td>24</td>\n",
       "      <td>Female</td>\n",
       "      <td>Location13</td>\n",
       "      <td>primary</td>\n",
       "      <td>married</td>\n",
       "      <td>admin.</td>\n",
       "      <td>yes</td>\n",
       "      <td>707</td>\n",
       "      <td>0.00</td>\n",
       "      <td>1</td>\n",
       "      <td>1</td>\n",
       "      <td>0</td>\n",
       "      <td>109688.82</td>\n",
       "    </tr>\n",
       "    <tr>\n",
       "      <th>3</th>\n",
       "      <td>C8462011</td>\n",
       "      <td>Name_8462011</td>\n",
       "      <td>1983</td>\n",
       "      <td>7</td>\n",
       "      <td>7</td>\n",
       "      <td>2016</td>\n",
       "      <td>7</td>\n",
       "      <td>9</td>\n",
       "      <td>Male</td>\n",
       "      <td>Location11</td>\n",
       "      <td>secondary</td>\n",
       "      <td>divorced</td>\n",
       "      <td>management</td>\n",
       "      <td>no</td>\n",
       "      <td>746</td>\n",
       "      <td>172274.01</td>\n",
       "      <td>1</td>\n",
       "      <td>1</td>\n",
       "      <td>0</td>\n",
       "      <td>22374.97</td>\n",
       "    </tr>\n",
       "    <tr>\n",
       "      <th>4</th>\n",
       "      <td>C3187447</td>\n",
       "      <td>Name_3187447</td>\n",
       "      <td>1983</td>\n",
       "      <td>8</td>\n",
       "      <td>9</td>\n",
       "      <td>2009</td>\n",
       "      <td>5</td>\n",
       "      <td>15</td>\n",
       "      <td>Male</td>\n",
       "      <td>Location11</td>\n",
       "      <td>tertiary</td>\n",
       "      <td>divorced</td>\n",
       "      <td>management</td>\n",
       "      <td>no</td>\n",
       "      <td>762</td>\n",
       "      <td>0.00</td>\n",
       "      <td>2</td>\n",
       "      <td>1</td>\n",
       "      <td>1</td>\n",
       "      <td>43075.70</td>\n",
       "    </tr>\n",
       "  </tbody>\n",
       "</table>\n",
       "</div>"
      ],
      "text/plain": [
       "  CustomerID  CustomerName  yearofBirth  monthofBirth  dayofBirth  \\\n",
       "0   C5993228  Name_5993228         1972             5           5   \n",
       "1   C6546925  Name_6546925         1990            12          27   \n",
       "2   C7491750  Name_7491750         1966             7          25   \n",
       "3   C8462011  Name_8462011         1983             7           7   \n",
       "4   C3187447  Name_3187447         1983             8           9   \n",
       "\n",
       "   yearofEntry  monthofEntry  dayofEntry  Gender    Location  Education  \\\n",
       "0         2015            12          16    Male  Location13        NaN   \n",
       "1         2016            11          26  Female  Location11    primary   \n",
       "2         2011            10          24  Female  Location13    primary   \n",
       "3         2016             7           9    Male  Location11  secondary   \n",
       "4         2009             5          15    Male  Location11   tertiary   \n",
       "\n",
       "  MaritalStatus  Occupation Ownhouse  CreditScore  AccountBalance  \\\n",
       "0        single  management      yes          624            0.00   \n",
       "1       married      admin.      yes          777       134571.50   \n",
       "2       married      admin.      yes          707            0.00   \n",
       "3      divorced  management       no          746       172274.01   \n",
       "4      divorced  management       no          762            0.00   \n",
       "\n",
       "   NumberOfProducts  IsCreditCardCustomer  ActiveMember     Salary  \n",
       "0                 2                     1             1   62825.03  \n",
       "1                 1                     0             1  118313.38  \n",
       "2                 1                     1             0  109688.82  \n",
       "3                 1                     1             0   22374.97  \n",
       "4                 2                     1             1   43075.70  "
      ]
     },
     "execution_count": 4,
     "metadata": {},
     "output_type": "execute_result"
    }
   ],
   "source": [
    "churn_data_test.head()"
   ]
  },
  {
   "cell_type": "markdown",
   "metadata": {},
   "source": [
    "### Getting a summary/description of the tain data"
   ]
  },
  {
   "cell_type": "code",
   "execution_count": 5,
   "metadata": {},
   "outputs": [
    {
     "data": {
      "text/html": [
       "<div>\n",
       "<style scoped>\n",
       "    .dataframe tbody tr th:only-of-type {\n",
       "        vertical-align: middle;\n",
       "    }\n",
       "\n",
       "    .dataframe tbody tr th {\n",
       "        vertical-align: top;\n",
       "    }\n",
       "\n",
       "    .dataframe thead th {\n",
       "        text-align: right;\n",
       "    }\n",
       "</style>\n",
       "<table border=\"1\" class=\"dataframe\">\n",
       "  <thead>\n",
       "    <tr style=\"text-align: right;\">\n",
       "      <th></th>\n",
       "      <th>CustomerID</th>\n",
       "      <th>CustomerName</th>\n",
       "      <th>yearofBirth</th>\n",
       "      <th>monthofBirth</th>\n",
       "      <th>dayofBirth</th>\n",
       "      <th>yearofEntry</th>\n",
       "      <th>monthofEntry</th>\n",
       "      <th>dayofEntry</th>\n",
       "      <th>Gender</th>\n",
       "      <th>Location</th>\n",
       "      <th>...</th>\n",
       "      <th>MaritalStatus</th>\n",
       "      <th>Occupation</th>\n",
       "      <th>Ownhouse</th>\n",
       "      <th>CreditScore</th>\n",
       "      <th>AccountBalance</th>\n",
       "      <th>NumberOfProducts</th>\n",
       "      <th>IsCreditCardCustomer</th>\n",
       "      <th>ActiveMember</th>\n",
       "      <th>Salary</th>\n",
       "      <th>Churn</th>\n",
       "    </tr>\n",
       "  </thead>\n",
       "  <tbody>\n",
       "    <tr>\n",
       "      <th>count</th>\n",
       "      <td>7360</td>\n",
       "      <td>7360</td>\n",
       "      <td>7360.000000</td>\n",
       "      <td>7360.000000</td>\n",
       "      <td>7360.000000</td>\n",
       "      <td>7360.000000</td>\n",
       "      <td>7360.000000</td>\n",
       "      <td>7360.000000</td>\n",
       "      <td>7360</td>\n",
       "      <td>7360</td>\n",
       "      <td>...</td>\n",
       "      <td>7360</td>\n",
       "      <td>6579</td>\n",
       "      <td>7169</td>\n",
       "      <td>7360.000000</td>\n",
       "      <td>7360.000000</td>\n",
       "      <td>7360.000000</td>\n",
       "      <td>7360.000000</td>\n",
       "      <td>7360.000000</td>\n",
       "      <td>7360.000000</td>\n",
       "      <td>7360.000000</td>\n",
       "    </tr>\n",
       "    <tr>\n",
       "      <th>unique</th>\n",
       "      <td>7360</td>\n",
       "      <td>7360</td>\n",
       "      <td>NaN</td>\n",
       "      <td>NaN</td>\n",
       "      <td>NaN</td>\n",
       "      <td>NaN</td>\n",
       "      <td>NaN</td>\n",
       "      <td>NaN</td>\n",
       "      <td>2</td>\n",
       "      <td>3</td>\n",
       "      <td>...</td>\n",
       "      <td>3</td>\n",
       "      <td>6</td>\n",
       "      <td>2</td>\n",
       "      <td>NaN</td>\n",
       "      <td>NaN</td>\n",
       "      <td>NaN</td>\n",
       "      <td>NaN</td>\n",
       "      <td>NaN</td>\n",
       "      <td>NaN</td>\n",
       "      <td>NaN</td>\n",
       "    </tr>\n",
       "    <tr>\n",
       "      <th>top</th>\n",
       "      <td>C8064287</td>\n",
       "      <td>Name_7317104</td>\n",
       "      <td>NaN</td>\n",
       "      <td>NaN</td>\n",
       "      <td>NaN</td>\n",
       "      <td>NaN</td>\n",
       "      <td>NaN</td>\n",
       "      <td>NaN</td>\n",
       "      <td>Male</td>\n",
       "      <td>Location11</td>\n",
       "      <td>...</td>\n",
       "      <td>single</td>\n",
       "      <td>admin.</td>\n",
       "      <td>no</td>\n",
       "      <td>NaN</td>\n",
       "      <td>NaN</td>\n",
       "      <td>NaN</td>\n",
       "      <td>NaN</td>\n",
       "      <td>NaN</td>\n",
       "      <td>NaN</td>\n",
       "      <td>NaN</td>\n",
       "    </tr>\n",
       "    <tr>\n",
       "      <th>freq</th>\n",
       "      <td>1</td>\n",
       "      <td>1</td>\n",
       "      <td>NaN</td>\n",
       "      <td>NaN</td>\n",
       "      <td>NaN</td>\n",
       "      <td>NaN</td>\n",
       "      <td>NaN</td>\n",
       "      <td>NaN</td>\n",
       "      <td>3994</td>\n",
       "      <td>3693</td>\n",
       "      <td>...</td>\n",
       "      <td>2559</td>\n",
       "      <td>3207</td>\n",
       "      <td>3684</td>\n",
       "      <td>NaN</td>\n",
       "      <td>NaN</td>\n",
       "      <td>NaN</td>\n",
       "      <td>NaN</td>\n",
       "      <td>NaN</td>\n",
       "      <td>NaN</td>\n",
       "      <td>NaN</td>\n",
       "    </tr>\n",
       "    <tr>\n",
       "      <th>mean</th>\n",
       "      <td>NaN</td>\n",
       "      <td>NaN</td>\n",
       "      <td>1979.058832</td>\n",
       "      <td>6.540897</td>\n",
       "      <td>14.607201</td>\n",
       "      <td>2012.984783</td>\n",
       "      <td>6.477174</td>\n",
       "      <td>14.505571</td>\n",
       "      <td>NaN</td>\n",
       "      <td>NaN</td>\n",
       "      <td>...</td>\n",
       "      <td>NaN</td>\n",
       "      <td>NaN</td>\n",
       "      <td>NaN</td>\n",
       "      <td>650.648777</td>\n",
       "      <td>76601.068011</td>\n",
       "      <td>1.524592</td>\n",
       "      <td>0.704212</td>\n",
       "      <td>0.510462</td>\n",
       "      <td>99967.894062</td>\n",
       "      <td>0.202717</td>\n",
       "    </tr>\n",
       "    <tr>\n",
       "      <th>std</th>\n",
       "      <td>NaN</td>\n",
       "      <td>NaN</td>\n",
       "      <td>10.464673</td>\n",
       "      <td>3.432135</td>\n",
       "      <td>8.068158</td>\n",
       "      <td>2.898385</td>\n",
       "      <td>3.433252</td>\n",
       "      <td>8.020220</td>\n",
       "      <td>NaN</td>\n",
       "      <td>NaN</td>\n",
       "      <td>...</td>\n",
       "      <td>NaN</td>\n",
       "      <td>NaN</td>\n",
       "      <td>NaN</td>\n",
       "      <td>96.769231</td>\n",
       "      <td>62442.214871</td>\n",
       "      <td>0.577415</td>\n",
       "      <td>0.456427</td>\n",
       "      <td>0.499924</td>\n",
       "      <td>57342.390262</td>\n",
       "      <td>0.402051</td>\n",
       "    </tr>\n",
       "    <tr>\n",
       "      <th>min</th>\n",
       "      <td>NaN</td>\n",
       "      <td>NaN</td>\n",
       "      <td>1926.000000</td>\n",
       "      <td>1.000000</td>\n",
       "      <td>1.000000</td>\n",
       "      <td>2008.000000</td>\n",
       "      <td>1.000000</td>\n",
       "      <td>1.000000</td>\n",
       "      <td>NaN</td>\n",
       "      <td>NaN</td>\n",
       "      <td>...</td>\n",
       "      <td>NaN</td>\n",
       "      <td>NaN</td>\n",
       "      <td>NaN</td>\n",
       "      <td>350.000000</td>\n",
       "      <td>0.000000</td>\n",
       "      <td>1.000000</td>\n",
       "      <td>0.000000</td>\n",
       "      <td>0.000000</td>\n",
       "      <td>11.580000</td>\n",
       "      <td>0.000000</td>\n",
       "    </tr>\n",
       "    <tr>\n",
       "      <th>25%</th>\n",
       "      <td>NaN</td>\n",
       "      <td>NaN</td>\n",
       "      <td>1974.000000</td>\n",
       "      <td>4.000000</td>\n",
       "      <td>8.000000</td>\n",
       "      <td>2010.000000</td>\n",
       "      <td>4.000000</td>\n",
       "      <td>8.000000</td>\n",
       "      <td>NaN</td>\n",
       "      <td>NaN</td>\n",
       "      <td>...</td>\n",
       "      <td>NaN</td>\n",
       "      <td>NaN</td>\n",
       "      <td>NaN</td>\n",
       "      <td>584.000000</td>\n",
       "      <td>0.000000</td>\n",
       "      <td>1.000000</td>\n",
       "      <td>0.000000</td>\n",
       "      <td>0.000000</td>\n",
       "      <td>51361.780000</td>\n",
       "      <td>0.000000</td>\n",
       "    </tr>\n",
       "    <tr>\n",
       "      <th>50%</th>\n",
       "      <td>NaN</td>\n",
       "      <td>NaN</td>\n",
       "      <td>1981.000000</td>\n",
       "      <td>7.000000</td>\n",
       "      <td>15.000000</td>\n",
       "      <td>2013.000000</td>\n",
       "      <td>6.000000</td>\n",
       "      <td>15.000000</td>\n",
       "      <td>NaN</td>\n",
       "      <td>NaN</td>\n",
       "      <td>...</td>\n",
       "      <td>NaN</td>\n",
       "      <td>NaN</td>\n",
       "      <td>NaN</td>\n",
       "      <td>652.000000</td>\n",
       "      <td>96913.725000</td>\n",
       "      <td>1.000000</td>\n",
       "      <td>1.000000</td>\n",
       "      <td>1.000000</td>\n",
       "      <td>99446.940000</td>\n",
       "      <td>0.000000</td>\n",
       "    </tr>\n",
       "    <tr>\n",
       "      <th>75%</th>\n",
       "      <td>NaN</td>\n",
       "      <td>NaN</td>\n",
       "      <td>1986.000000</td>\n",
       "      <td>10.000000</td>\n",
       "      <td>22.000000</td>\n",
       "      <td>2015.250000</td>\n",
       "      <td>9.000000</td>\n",
       "      <td>21.000000</td>\n",
       "      <td>NaN</td>\n",
       "      <td>NaN</td>\n",
       "      <td>...</td>\n",
       "      <td>NaN</td>\n",
       "      <td>NaN</td>\n",
       "      <td>NaN</td>\n",
       "      <td>718.000000</td>\n",
       "      <td>127660.767500</td>\n",
       "      <td>2.000000</td>\n",
       "      <td>1.000000</td>\n",
       "      <td>1.000000</td>\n",
       "      <td>149068.075000</td>\n",
       "      <td>0.000000</td>\n",
       "    </tr>\n",
       "    <tr>\n",
       "      <th>max</th>\n",
       "      <td>NaN</td>\n",
       "      <td>NaN</td>\n",
       "      <td>2000.000000</td>\n",
       "      <td>12.000000</td>\n",
       "      <td>28.000000</td>\n",
       "      <td>2018.000000</td>\n",
       "      <td>12.000000</td>\n",
       "      <td>28.000000</td>\n",
       "      <td>NaN</td>\n",
       "      <td>NaN</td>\n",
       "      <td>...</td>\n",
       "      <td>NaN</td>\n",
       "      <td>NaN</td>\n",
       "      <td>NaN</td>\n",
       "      <td>850.000000</td>\n",
       "      <td>250898.090000</td>\n",
       "      <td>4.000000</td>\n",
       "      <td>1.000000</td>\n",
       "      <td>1.000000</td>\n",
       "      <td>199992.480000</td>\n",
       "      <td>1.000000</td>\n",
       "    </tr>\n",
       "  </tbody>\n",
       "</table>\n",
       "<p>11 rows × 21 columns</p>\n",
       "</div>"
      ],
      "text/plain": [
       "       CustomerID  CustomerName  yearofBirth  monthofBirth   dayofBirth  \\\n",
       "count        7360          7360  7360.000000   7360.000000  7360.000000   \n",
       "unique       7360          7360          NaN           NaN          NaN   \n",
       "top      C8064287  Name_7317104          NaN           NaN          NaN   \n",
       "freq            1             1          NaN           NaN          NaN   \n",
       "mean          NaN           NaN  1979.058832      6.540897    14.607201   \n",
       "std           NaN           NaN    10.464673      3.432135     8.068158   \n",
       "min           NaN           NaN  1926.000000      1.000000     1.000000   \n",
       "25%           NaN           NaN  1974.000000      4.000000     8.000000   \n",
       "50%           NaN           NaN  1981.000000      7.000000    15.000000   \n",
       "75%           NaN           NaN  1986.000000     10.000000    22.000000   \n",
       "max           NaN           NaN  2000.000000     12.000000    28.000000   \n",
       "\n",
       "        yearofEntry  monthofEntry   dayofEntry Gender    Location  ...  \\\n",
       "count   7360.000000   7360.000000  7360.000000   7360        7360  ...   \n",
       "unique          NaN           NaN          NaN      2           3  ...   \n",
       "top             NaN           NaN          NaN   Male  Location11  ...   \n",
       "freq            NaN           NaN          NaN   3994        3693  ...   \n",
       "mean    2012.984783      6.477174    14.505571    NaN         NaN  ...   \n",
       "std        2.898385      3.433252     8.020220    NaN         NaN  ...   \n",
       "min     2008.000000      1.000000     1.000000    NaN         NaN  ...   \n",
       "25%     2010.000000      4.000000     8.000000    NaN         NaN  ...   \n",
       "50%     2013.000000      6.000000    15.000000    NaN         NaN  ...   \n",
       "75%     2015.250000      9.000000    21.000000    NaN         NaN  ...   \n",
       "max     2018.000000     12.000000    28.000000    NaN         NaN  ...   \n",
       "\n",
       "       MaritalStatus Occupation Ownhouse  CreditScore  AccountBalance  \\\n",
       "count           7360       6579     7169  7360.000000     7360.000000   \n",
       "unique             3          6        2          NaN             NaN   \n",
       "top           single     admin.       no          NaN             NaN   \n",
       "freq            2559       3207     3684          NaN             NaN   \n",
       "mean             NaN        NaN      NaN   650.648777    76601.068011   \n",
       "std              NaN        NaN      NaN    96.769231    62442.214871   \n",
       "min              NaN        NaN      NaN   350.000000        0.000000   \n",
       "25%              NaN        NaN      NaN   584.000000        0.000000   \n",
       "50%              NaN        NaN      NaN   652.000000    96913.725000   \n",
       "75%              NaN        NaN      NaN   718.000000   127660.767500   \n",
       "max              NaN        NaN      NaN   850.000000   250898.090000   \n",
       "\n",
       "        NumberOfProducts  IsCreditCardCustomer  ActiveMember         Salary  \\\n",
       "count        7360.000000           7360.000000   7360.000000    7360.000000   \n",
       "unique               NaN                   NaN           NaN            NaN   \n",
       "top                  NaN                   NaN           NaN            NaN   \n",
       "freq                 NaN                   NaN           NaN            NaN   \n",
       "mean            1.524592              0.704212      0.510462   99967.894062   \n",
       "std             0.577415              0.456427      0.499924   57342.390262   \n",
       "min             1.000000              0.000000      0.000000      11.580000   \n",
       "25%             1.000000              0.000000      0.000000   51361.780000   \n",
       "50%             1.000000              1.000000      1.000000   99446.940000   \n",
       "75%             2.000000              1.000000      1.000000  149068.075000   \n",
       "max             4.000000              1.000000      1.000000  199992.480000   \n",
       "\n",
       "              Churn  \n",
       "count   7360.000000  \n",
       "unique          NaN  \n",
       "top             NaN  \n",
       "freq            NaN  \n",
       "mean       0.202717  \n",
       "std        0.402051  \n",
       "min        0.000000  \n",
       "25%        0.000000  \n",
       "50%        0.000000  \n",
       "75%        0.000000  \n",
       "max        1.000000  \n",
       "\n",
       "[11 rows x 21 columns]"
      ]
     },
     "execution_count": 5,
     "metadata": {},
     "output_type": "execute_result"
    }
   ],
   "source": [
    "churn_data_train.describe(include='all')"
   ]
  },
  {
   "cell_type": "markdown",
   "metadata": {},
   "source": [
    "### Getting a summary/description of the test data"
   ]
  },
  {
   "cell_type": "code",
   "execution_count": 6,
   "metadata": {},
   "outputs": [
    {
     "data": {
      "text/html": [
       "<div>\n",
       "<style scoped>\n",
       "    .dataframe tbody tr th:only-of-type {\n",
       "        vertical-align: middle;\n",
       "    }\n",
       "\n",
       "    .dataframe tbody tr th {\n",
       "        vertical-align: top;\n",
       "    }\n",
       "\n",
       "    .dataframe thead th {\n",
       "        text-align: right;\n",
       "    }\n",
       "</style>\n",
       "<table border=\"1\" class=\"dataframe\">\n",
       "  <thead>\n",
       "    <tr style=\"text-align: right;\">\n",
       "      <th></th>\n",
       "      <th>CustomerID</th>\n",
       "      <th>CustomerName</th>\n",
       "      <th>yearofBirth</th>\n",
       "      <th>monthofBirth</th>\n",
       "      <th>dayofBirth</th>\n",
       "      <th>yearofEntry</th>\n",
       "      <th>monthofEntry</th>\n",
       "      <th>dayofEntry</th>\n",
       "      <th>Gender</th>\n",
       "      <th>Location</th>\n",
       "      <th>Education</th>\n",
       "      <th>MaritalStatus</th>\n",
       "      <th>Occupation</th>\n",
       "      <th>Ownhouse</th>\n",
       "      <th>CreditScore</th>\n",
       "      <th>AccountBalance</th>\n",
       "      <th>NumberOfProducts</th>\n",
       "      <th>IsCreditCardCustomer</th>\n",
       "      <th>ActiveMember</th>\n",
       "      <th>Salary</th>\n",
       "    </tr>\n",
       "  </thead>\n",
       "  <tbody>\n",
       "    <tr>\n",
       "      <th>count</th>\n",
       "      <td>1840</td>\n",
       "      <td>1840</td>\n",
       "      <td>1840.000000</td>\n",
       "      <td>1840.000000</td>\n",
       "      <td>1840.000000</td>\n",
       "      <td>1840.000000</td>\n",
       "      <td>1840.000000</td>\n",
       "      <td>1840.000000</td>\n",
       "      <td>1840</td>\n",
       "      <td>1840</td>\n",
       "      <td>1359</td>\n",
       "      <td>1840</td>\n",
       "      <td>1663</td>\n",
       "      <td>1781</td>\n",
       "      <td>1840.000000</td>\n",
       "      <td>1840.000000</td>\n",
       "      <td>1840.000000</td>\n",
       "      <td>1840.000000</td>\n",
       "      <td>1840.000000</td>\n",
       "      <td>1840.000000</td>\n",
       "    </tr>\n",
       "    <tr>\n",
       "      <th>unique</th>\n",
       "      <td>1840</td>\n",
       "      <td>1840</td>\n",
       "      <td>NaN</td>\n",
       "      <td>NaN</td>\n",
       "      <td>NaN</td>\n",
       "      <td>NaN</td>\n",
       "      <td>NaN</td>\n",
       "      <td>NaN</td>\n",
       "      <td>2</td>\n",
       "      <td>3</td>\n",
       "      <td>3</td>\n",
       "      <td>3</td>\n",
       "      <td>6</td>\n",
       "      <td>2</td>\n",
       "      <td>NaN</td>\n",
       "      <td>NaN</td>\n",
       "      <td>NaN</td>\n",
       "      <td>NaN</td>\n",
       "      <td>NaN</td>\n",
       "      <td>NaN</td>\n",
       "    </tr>\n",
       "    <tr>\n",
       "      <th>top</th>\n",
       "      <td>C4939593</td>\n",
       "      <td>Name_2507838</td>\n",
       "      <td>NaN</td>\n",
       "      <td>NaN</td>\n",
       "      <td>NaN</td>\n",
       "      <td>NaN</td>\n",
       "      <td>NaN</td>\n",
       "      <td>NaN</td>\n",
       "      <td>Male</td>\n",
       "      <td>Location11</td>\n",
       "      <td>primary</td>\n",
       "      <td>single</td>\n",
       "      <td>admin.</td>\n",
       "      <td>no</td>\n",
       "      <td>NaN</td>\n",
       "      <td>NaN</td>\n",
       "      <td>NaN</td>\n",
       "      <td>NaN</td>\n",
       "      <td>NaN</td>\n",
       "      <td>NaN</td>\n",
       "    </tr>\n",
       "    <tr>\n",
       "      <th>freq</th>\n",
       "      <td>1</td>\n",
       "      <td>1</td>\n",
       "      <td>NaN</td>\n",
       "      <td>NaN</td>\n",
       "      <td>NaN</td>\n",
       "      <td>NaN</td>\n",
       "      <td>NaN</td>\n",
       "      <td>NaN</td>\n",
       "      <td>992</td>\n",
       "      <td>910</td>\n",
       "      <td>472</td>\n",
       "      <td>684</td>\n",
       "      <td>805</td>\n",
       "      <td>944</td>\n",
       "      <td>NaN</td>\n",
       "      <td>NaN</td>\n",
       "      <td>NaN</td>\n",
       "      <td>NaN</td>\n",
       "      <td>NaN</td>\n",
       "      <td>NaN</td>\n",
       "    </tr>\n",
       "    <tr>\n",
       "      <th>mean</th>\n",
       "      <td>NaN</td>\n",
       "      <td>NaN</td>\n",
       "      <td>1979.079348</td>\n",
       "      <td>6.428261</td>\n",
       "      <td>14.646739</td>\n",
       "      <td>2013.067391</td>\n",
       "      <td>6.496739</td>\n",
       "      <td>14.621196</td>\n",
       "      <td>NaN</td>\n",
       "      <td>NaN</td>\n",
       "      <td>NaN</td>\n",
       "      <td>NaN</td>\n",
       "      <td>NaN</td>\n",
       "      <td>NaN</td>\n",
       "      <td>650.783152</td>\n",
       "      <td>75116.590674</td>\n",
       "      <td>1.554348</td>\n",
       "      <td>0.707609</td>\n",
       "      <td>0.531522</td>\n",
       "      <td>100166.398853</td>\n",
       "    </tr>\n",
       "    <tr>\n",
       "      <th>std</th>\n",
       "      <td>NaN</td>\n",
       "      <td>NaN</td>\n",
       "      <td>10.722776</td>\n",
       "      <td>3.446675</td>\n",
       "      <td>8.205039</td>\n",
       "      <td>2.877756</td>\n",
       "      <td>3.468336</td>\n",
       "      <td>8.081591</td>\n",
       "      <td>NaN</td>\n",
       "      <td>NaN</td>\n",
       "      <td>NaN</td>\n",
       "      <td>NaN</td>\n",
       "      <td>NaN</td>\n",
       "      <td>NaN</td>\n",
       "      <td>96.329207</td>\n",
       "      <td>62614.929825</td>\n",
       "      <td>0.602950</td>\n",
       "      <td>0.454985</td>\n",
       "      <td>0.499141</td>\n",
       "      <td>58071.421408</td>\n",
       "    </tr>\n",
       "    <tr>\n",
       "      <th>min</th>\n",
       "      <td>NaN</td>\n",
       "      <td>NaN</td>\n",
       "      <td>1937.000000</td>\n",
       "      <td>1.000000</td>\n",
       "      <td>1.000000</td>\n",
       "      <td>2008.000000</td>\n",
       "      <td>1.000000</td>\n",
       "      <td>1.000000</td>\n",
       "      <td>NaN</td>\n",
       "      <td>NaN</td>\n",
       "      <td>NaN</td>\n",
       "      <td>NaN</td>\n",
       "      <td>NaN</td>\n",
       "      <td>NaN</td>\n",
       "      <td>363.000000</td>\n",
       "      <td>0.000000</td>\n",
       "      <td>1.000000</td>\n",
       "      <td>0.000000</td>\n",
       "      <td>0.000000</td>\n",
       "      <td>106.670000</td>\n",
       "    </tr>\n",
       "    <tr>\n",
       "      <th>25%</th>\n",
       "      <td>NaN</td>\n",
       "      <td>NaN</td>\n",
       "      <td>1974.000000</td>\n",
       "      <td>4.000000</td>\n",
       "      <td>7.750000</td>\n",
       "      <td>2011.000000</td>\n",
       "      <td>4.000000</td>\n",
       "      <td>8.000000</td>\n",
       "      <td>NaN</td>\n",
       "      <td>NaN</td>\n",
       "      <td>NaN</td>\n",
       "      <td>NaN</td>\n",
       "      <td>NaN</td>\n",
       "      <td>NaN</td>\n",
       "      <td>584.000000</td>\n",
       "      <td>0.000000</td>\n",
       "      <td>1.000000</td>\n",
       "      <td>0.000000</td>\n",
       "      <td>0.000000</td>\n",
       "      <td>50050.127500</td>\n",
       "    </tr>\n",
       "    <tr>\n",
       "      <th>50%</th>\n",
       "      <td>NaN</td>\n",
       "      <td>NaN</td>\n",
       "      <td>1981.000000</td>\n",
       "      <td>6.000000</td>\n",
       "      <td>15.000000</td>\n",
       "      <td>2013.000000</td>\n",
       "      <td>7.000000</td>\n",
       "      <td>15.000000</td>\n",
       "      <td>NaN</td>\n",
       "      <td>NaN</td>\n",
       "      <td>NaN</td>\n",
       "      <td>NaN</td>\n",
       "      <td>NaN</td>\n",
       "      <td>NaN</td>\n",
       "      <td>651.000000</td>\n",
       "      <td>97372.095000</td>\n",
       "      <td>2.000000</td>\n",
       "      <td>1.000000</td>\n",
       "      <td>1.000000</td>\n",
       "      <td>100766.915000</td>\n",
       "    </tr>\n",
       "    <tr>\n",
       "      <th>75%</th>\n",
       "      <td>NaN</td>\n",
       "      <td>NaN</td>\n",
       "      <td>1986.000000</td>\n",
       "      <td>9.000000</td>\n",
       "      <td>22.000000</td>\n",
       "      <td>2016.000000</td>\n",
       "      <td>9.000000</td>\n",
       "      <td>22.000000</td>\n",
       "      <td>NaN</td>\n",
       "      <td>NaN</td>\n",
       "      <td>NaN</td>\n",
       "      <td>NaN</td>\n",
       "      <td>NaN</td>\n",
       "      <td>NaN</td>\n",
       "      <td>718.000000</td>\n",
       "      <td>127735.702500</td>\n",
       "      <td>2.000000</td>\n",
       "      <td>1.000000</td>\n",
       "      <td>1.000000</td>\n",
       "      <td>149760.675000</td>\n",
       "    </tr>\n",
       "    <tr>\n",
       "      <th>max</th>\n",
       "      <td>NaN</td>\n",
       "      <td>NaN</td>\n",
       "      <td>2000.000000</td>\n",
       "      <td>12.000000</td>\n",
       "      <td>28.000000</td>\n",
       "      <td>2018.000000</td>\n",
       "      <td>12.000000</td>\n",
       "      <td>28.000000</td>\n",
       "      <td>NaN</td>\n",
       "      <td>NaN</td>\n",
       "      <td>NaN</td>\n",
       "      <td>NaN</td>\n",
       "      <td>NaN</td>\n",
       "      <td>NaN</td>\n",
       "      <td>850.000000</td>\n",
       "      <td>205770.780000</td>\n",
       "      <td>4.000000</td>\n",
       "      <td>1.000000</td>\n",
       "      <td>1.000000</td>\n",
       "      <td>199953.330000</td>\n",
       "    </tr>\n",
       "  </tbody>\n",
       "</table>\n",
       "</div>"
      ],
      "text/plain": [
       "       CustomerID  CustomerName  yearofBirth  monthofBirth   dayofBirth  \\\n",
       "count        1840          1840  1840.000000   1840.000000  1840.000000   \n",
       "unique       1840          1840          NaN           NaN          NaN   \n",
       "top      C4939593  Name_2507838          NaN           NaN          NaN   \n",
       "freq            1             1          NaN           NaN          NaN   \n",
       "mean          NaN           NaN  1979.079348      6.428261    14.646739   \n",
       "std           NaN           NaN    10.722776      3.446675     8.205039   \n",
       "min           NaN           NaN  1937.000000      1.000000     1.000000   \n",
       "25%           NaN           NaN  1974.000000      4.000000     7.750000   \n",
       "50%           NaN           NaN  1981.000000      6.000000    15.000000   \n",
       "75%           NaN           NaN  1986.000000      9.000000    22.000000   \n",
       "max           NaN           NaN  2000.000000     12.000000    28.000000   \n",
       "\n",
       "        yearofEntry  monthofEntry   dayofEntry Gender    Location Education  \\\n",
       "count   1840.000000   1840.000000  1840.000000   1840        1840      1359   \n",
       "unique          NaN           NaN          NaN      2           3         3   \n",
       "top             NaN           NaN          NaN   Male  Location11   primary   \n",
       "freq            NaN           NaN          NaN    992         910       472   \n",
       "mean    2013.067391      6.496739    14.621196    NaN         NaN       NaN   \n",
       "std        2.877756      3.468336     8.081591    NaN         NaN       NaN   \n",
       "min     2008.000000      1.000000     1.000000    NaN         NaN       NaN   \n",
       "25%     2011.000000      4.000000     8.000000    NaN         NaN       NaN   \n",
       "50%     2013.000000      7.000000    15.000000    NaN         NaN       NaN   \n",
       "75%     2016.000000      9.000000    22.000000    NaN         NaN       NaN   \n",
       "max     2018.000000     12.000000    28.000000    NaN         NaN       NaN   \n",
       "\n",
       "       MaritalStatus Occupation Ownhouse  CreditScore  AccountBalance  \\\n",
       "count           1840       1663     1781  1840.000000     1840.000000   \n",
       "unique             3          6        2          NaN             NaN   \n",
       "top           single     admin.       no          NaN             NaN   \n",
       "freq             684        805      944          NaN             NaN   \n",
       "mean             NaN        NaN      NaN   650.783152    75116.590674   \n",
       "std              NaN        NaN      NaN    96.329207    62614.929825   \n",
       "min              NaN        NaN      NaN   363.000000        0.000000   \n",
       "25%              NaN        NaN      NaN   584.000000        0.000000   \n",
       "50%              NaN        NaN      NaN   651.000000    97372.095000   \n",
       "75%              NaN        NaN      NaN   718.000000   127735.702500   \n",
       "max              NaN        NaN      NaN   850.000000   205770.780000   \n",
       "\n",
       "        NumberOfProducts  IsCreditCardCustomer  ActiveMember         Salary  \n",
       "count        1840.000000           1840.000000   1840.000000    1840.000000  \n",
       "unique               NaN                   NaN           NaN            NaN  \n",
       "top                  NaN                   NaN           NaN            NaN  \n",
       "freq                 NaN                   NaN           NaN            NaN  \n",
       "mean            1.554348              0.707609      0.531522  100166.398853  \n",
       "std             0.602950              0.454985      0.499141   58071.421408  \n",
       "min             1.000000              0.000000      0.000000     106.670000  \n",
       "25%             1.000000              0.000000      0.000000   50050.127500  \n",
       "50%             2.000000              1.000000      1.000000  100766.915000  \n",
       "75%             2.000000              1.000000      1.000000  149760.675000  \n",
       "max             4.000000              1.000000      1.000000  199953.330000  "
      ]
     },
     "execution_count": 6,
     "metadata": {},
     "output_type": "execute_result"
    }
   ],
   "source": [
    "churn_data_test.describe(include='all')"
   ]
  },
  {
   "cell_type": "markdown",
   "metadata": {},
   "source": [
    "### Displaying the Columns of the Train data"
   ]
  },
  {
   "cell_type": "code",
   "execution_count": 7,
   "metadata": {},
   "outputs": [
    {
     "name": "stdout",
     "output_type": "stream",
     "text": [
      "['CustomerID', 'CustomerName', 'yearofBirth', 'monthofBirth', 'dayofBirth', 'yearofEntry', 'monthofEntry', 'dayofEntry', 'Gender', 'Location', 'Education', 'MaritalStatus', 'Occupation', 'Ownhouse', 'CreditScore', 'AccountBalance', 'NumberOfProducts', 'IsCreditCardCustomer', 'ActiveMember', 'Salary', 'Churn']\n"
     ]
    }
   ],
   "source": [
    "print(list(churn_data_train.columns))"
   ]
  },
  {
   "cell_type": "markdown",
   "metadata": {},
   "source": [
    "### Displaying the Columns of the Test data"
   ]
  },
  {
   "cell_type": "code",
   "execution_count": 8,
   "metadata": {},
   "outputs": [
    {
     "name": "stdout",
     "output_type": "stream",
     "text": [
      "['CustomerID', 'CustomerName', 'yearofBirth', 'monthofBirth', 'dayofBirth', 'yearofEntry', 'monthofEntry', 'dayofEntry', 'Gender', 'Location', 'Education', 'MaritalStatus', 'Occupation', 'Ownhouse', 'CreditScore', 'AccountBalance', 'NumberOfProducts', 'IsCreditCardCustomer', 'ActiveMember', 'Salary']\n"
     ]
    }
   ],
   "source": [
    "print(list(churn_data_test.columns))"
   ]
  },
  {
   "cell_type": "markdown",
   "metadata": {},
   "source": [
    "### Shape of Train and Test Data"
   ]
  },
  {
   "cell_type": "code",
   "execution_count": 9,
   "metadata": {},
   "outputs": [
    {
     "name": "stdout",
     "output_type": "stream",
     "text": [
      "Shape of train data is (7360, 21)\n",
      "Shape of test data is (1840, 20)\n"
     ]
    }
   ],
   "source": [
    "print(\"Shape of train data is\",churn_data_train.shape)\n",
    "print(\"Shape of test data is\",churn_data_test.shape)"
   ]
  },
  {
   "cell_type": "markdown",
   "metadata": {},
   "source": [
    "### DataTypes of the train data"
   ]
  },
  {
   "cell_type": "code",
   "execution_count": 10,
   "metadata": {},
   "outputs": [
    {
     "data": {
      "text/plain": [
       "CustomerID               object\n",
       "CustomerName             object\n",
       "yearofBirth               int64\n",
       "monthofBirth              int64\n",
       "dayofBirth                int64\n",
       "yearofEntry               int64\n",
       "monthofEntry              int64\n",
       "dayofEntry                int64\n",
       "Gender                   object\n",
       "Location                 object\n",
       "Education                object\n",
       "MaritalStatus            object\n",
       "Occupation               object\n",
       "Ownhouse                 object\n",
       "CreditScore               int64\n",
       "AccountBalance          float64\n",
       "NumberOfProducts          int64\n",
       "IsCreditCardCustomer      int64\n",
       "ActiveMember              int64\n",
       "Salary                  float64\n",
       "Churn                     int64\n",
       "dtype: object"
      ]
     },
     "execution_count": 10,
     "metadata": {},
     "output_type": "execute_result"
    }
   ],
   "source": [
    "churn_data_train.dtypes"
   ]
  },
  {
   "cell_type": "code",
   "execution_count": 11,
   "metadata": {},
   "outputs": [
    {
     "data": {
      "text/plain": [
       "CustomerID               object\n",
       "CustomerName             object\n",
       "yearofBirth               int64\n",
       "monthofBirth              int64\n",
       "dayofBirth                int64\n",
       "yearofEntry               int64\n",
       "monthofEntry              int64\n",
       "dayofEntry                int64\n",
       "Gender                   object\n",
       "Location                 object\n",
       "Education                object\n",
       "MaritalStatus            object\n",
       "Occupation               object\n",
       "Ownhouse                 object\n",
       "CreditScore               int64\n",
       "AccountBalance          float64\n",
       "NumberOfProducts          int64\n",
       "IsCreditCardCustomer      int64\n",
       "ActiveMember              int64\n",
       "Salary                  float64\n",
       "dtype: object"
      ]
     },
     "execution_count": 11,
     "metadata": {},
     "output_type": "execute_result"
    }
   ],
   "source": [
    "churn_data_test.dtypes"
   ]
  },
  {
   "cell_type": "markdown",
   "metadata": {},
   "source": [
    "\n",
    "## Finding the distribution of Churn in the Train data"
   ]
  },
  {
   "cell_type": "code",
   "execution_count": 12,
   "metadata": {},
   "outputs": [
    {
     "name": "stdout",
     "output_type": "stream",
     "text": [
      "0    5868\n",
      "1    1492\n",
      "Name: Churn, dtype: int64\n",
      "Percentage of people churned: 20.27173913043478 %\n"
     ]
    },
    {
     "data": {
      "image/png": "[encoded data removed]",
      "text/plain": [
       "<Figure size 576x576 with 1 Axes>"
      ]
     },
     "metadata": {
      "needs_background": "light"
     },
     "output_type": "display_data"
    }
   ],
   "source": [
    "plt.figure(figsize=(8,8))\n",
    "sns.countplot(x='Churn',data=churn_data_train)\n",
    "plt.savefig('Distribution.jpeg')\n",
    "\n",
    "\n",
    "# Finding the counts of churn\n",
    "print(churn_data_train.Churn.value_counts())\n",
    "\n",
    "# What is the percentage of churn?\n",
    "count_yes = len(churn_data_train[churn_data_train.Churn == 1])\n",
    "count_no = len(churn_data_train[churn_data_train.Churn != 1])\n",
    "\n",
    "percentage = (count_yes/(count_yes + count_no))*100\n",
    "\n",
    "print('Percentage of people churned:', percentage, \"%\")"
   ]
  },
  {
   "cell_type": "markdown",
   "metadata": {},
   "source": [
    "## Finding the distribution based on Gender"
   ]
  },
  {
   "cell_type": "code",
   "execution_count": 13,
   "metadata": {},
   "outputs": [
    {
     "data": {
      "image/png": "[encoded data removed]",
      "text/plain": [
       "<Figure size 576x576 with 1 Axes>"
      ]
     },
     "metadata": {
      "needs_background": "light"
     },
     "output_type": "display_data"
    },
    {
     "data": {
      "text/plain": [
       "<Figure size 432x288 with 0 Axes>"
      ]
     },
     "metadata": {},
     "output_type": "display_data"
    }
   ],
   "source": [
    "plt.figure(figsize=(8,8))\n",
    "sns.countplot(x='Churn',hue='Gender',data=churn_data_train)\n",
    "plt.show()\n",
    "plt.savefig('GenderVsChurn.png')"
   ]
  },
  {
   "cell_type": "markdown",
   "metadata": {},
   "source": [
    "### FINDING DISTRIBUTION BASED ON EDUCATION"
   ]
  },
  {
   "cell_type": "code",
   "execution_count": 14,
   "metadata": {},
   "outputs": [
    {
     "data": {
      "image/png": "[encoded data removed]",
      "text/plain": [
       "<Figure size 576x576 with 1 Axes>"
      ]
     },
     "metadata": {
      "needs_background": "light"
     },
     "output_type": "display_data"
    },
    {
     "data": {
      "text/plain": [
       "<Figure size 432x288 with 0 Axes>"
      ]
     },
     "metadata": {},
     "output_type": "display_data"
    }
   ],
   "source": [
    "plt.figure(figsize=(8,8))\n",
    "sns.countplot(x='Churn',hue='Education',data=churn_data_train)\n",
    "plt.show()\n",
    "plt.savefig('EducationVsChurn.png')"
   ]
  },
  {
   "cell_type": "markdown",
   "metadata": {},
   "source": [
    "## FINDING THE DISTRIBUTION BASED ON LOCATION"
   ]
  },
  {
   "cell_type": "code",
   "execution_count": 15,
   "metadata": {},
   "outputs": [
    {
     "data": {
      "image/png": "[encoded data removed]",
      "text/plain": [
       "<Figure size 576x576 with 1 Axes>"
      ]
     },
     "metadata": {
      "needs_background": "light"
     },
     "output_type": "display_data"
    },
    {
     "data": {
      "text/plain": [
       "<Figure size 432x288 with 0 Axes>"
      ]
     },
     "metadata": {},
     "output_type": "display_data"
    }
   ],
   "source": [
    "plt.figure(figsize=(8,8))\n",
    "sns.countplot(x='Churn',hue='Location',data=churn_data_train)\n",
    "plt.show()\n",
    "plt.savefig('LocationVsChurn.png')"
   ]
  },
  {
   "cell_type": "markdown",
   "metadata": {},
   "source": [
    "## Finding Distribution based on Marital Status"
   ]
  },
  {
   "cell_type": "code",
   "execution_count": 16,
   "metadata": {},
   "outputs": [
    {
     "data": {
      "image/png": "[encoded data removed]",
      "text/plain": [
       "<Figure size 576x576 with 1 Axes>"
      ]
     },
     "metadata": {
      "needs_background": "light"
     },
     "output_type": "display_data"
    },
    {
     "data": {
      "text/plain": [
       "<Figure size 432x288 with 0 Axes>"
      ]
     },
     "metadata": {},
     "output_type": "display_data"
    }
   ],
   "source": [
    "plt.figure(figsize=(8,8))\n",
    "sns.countplot(x='Churn',hue='MaritalStatus',data=churn_data_train)\n",
    "plt.show()\n",
    "plt.savefig('MaritalVsChurn.png')\n"
   ]
  },
  {
   "cell_type": "markdown",
   "metadata": {},
   "source": [
    "## Finding Distribution based on Occupation"
   ]
  },
  {
   "cell_type": "code",
   "execution_count": 17,
   "metadata": {},
   "outputs": [
    {
     "data": {
      "image/png": "[encoded data removed]",
      "text/plain": [
       "<Figure size 648x648 with 1 Axes>"
      ]
     },
     "metadata": {
      "needs_background": "light"
     },
     "output_type": "display_data"
    },
    {
     "data": {
      "text/plain": [
       "<Figure size 432x288 with 0 Axes>"
      ]
     },
     "metadata": {},
     "output_type": "display_data"
    }
   ],
   "source": [
    "plt.figure(figsize=(9,9))\n",
    "sns.countplot(x='Churn',hue='Occupation',data=churn_data_train)\n",
    "plt.show()\n",
    "plt.savefig('OccVsChurn.png')"
   ]
  },
  {
   "cell_type": "markdown",
   "metadata": {},
   "source": [
    "### DETECTING OUTLIERS BASED ON CREDIT SCORE"
   ]
  },
  {
   "cell_type": "code",
   "execution_count": 18,
   "metadata": {},
   "outputs": [
    {
     "data": {
      "image/png": "[encoded data removed]",
      "text/plain": [
       "<Figure size 648x648 with 1 Axes>"
      ]
     },
     "metadata": {
      "needs_background": "light"
     },
     "output_type": "display_data"
    }
   ],
   "source": [
    "plt.figure(figsize=(9,9))\n",
    "sns.boxplot(x=\"Churn\", y=\"CreditScore\", data=churn_data_train)\n",
    "plt.savefig('CreditOutliers.jpeg')"
   ]
  },
  {
   "cell_type": "markdown",
   "metadata": {},
   "source": [
    "## Detecting Outliers based on Account Balance"
   ]
  },
  {
   "cell_type": "code",
   "execution_count": 19,
   "metadata": {},
   "outputs": [
    {
     "data": {
      "image/png": "[encoded data removed]",
      "text/plain": [
       "<Figure size 648x648 with 1 Axes>"
      ]
     },
     "metadata": {
      "needs_background": "light"
     },
     "output_type": "display_data"
    }
   ],
   "source": [
    "plt.figure(figsize=(9,9))\n",
    "sns.boxplot(x=\"Churn\", y=\"AccountBalance\", data=churn_data_train)\n",
    "plt.savefig('AccBalOutliers.jpeg')"
   ]
  },
  {
   "cell_type": "markdown",
   "metadata": {},
   "source": [
    "## Detecting Outliers based on Salary"
   ]
  },
  {
   "cell_type": "code",
   "execution_count": 20,
   "metadata": {},
   "outputs": [
    {
     "data": {
      "image/png": "[encoded data removed]",
      "text/plain": [
       "<Figure size 648x648 with 1 Axes>"
      ]
     },
     "metadata": {
      "needs_background": "light"
     },
     "output_type": "display_data"
    }
   ],
   "source": [
    "plt.figure(figsize=(9,9))\n",
    "sns.boxplot(x=\"Churn\", y=\"Salary\", data=churn_data_train)\n",
    "plt.savefig('SalOutliers.jpeg')"
   ]
  },
  {
   "cell_type": "markdown",
   "metadata": {},
   "source": [
    "## FEATURE ENGINEERING"
   ]
  },
  {
   "cell_type": "code",
   "execution_count": 21,
   "metadata": {},
   "outputs": [],
   "source": [
    "churn_data_train.drop('CustomerID',axis=1,inplace=True)\n",
    "churn_data_train.drop('CustomerName',axis=1,inplace=True)\n",
    "churn_data_train.drop('yearofBirth',axis=1,inplace=True)\n",
    "churn_data_train.drop('monthofBirth',axis=1,inplace=True)\n",
    "churn_data_train.drop('dayofBirth',axis=1,inplace=True)\n",
    "churn_data_train.drop('dayofEntry',axis=1,inplace=True)\n",
    "churn_data_train.drop('monthofEntry',axis=1,inplace=True)\n"
   ]
  },
  {
   "cell_type": "code",
   "execution_count": 22,
   "metadata": {},
   "outputs": [
    {
     "name": "stdout",
     "output_type": "stream",
     "text": [
      "Number of columns: 14\n"
     ]
    }
   ],
   "source": [
    "print(\"Number of columns:\",churn_data_train.shape[1])"
   ]
  },
  {
   "cell_type": "markdown",
   "metadata": {},
   "source": [
    "### TypeCasting"
   ]
  },
  {
   "cell_type": "markdown",
   "metadata": {},
   "source": [
    "### TypeCasting columns on Train data"
   ]
  },
  {
   "cell_type": "code",
   "execution_count": 23,
   "metadata": {},
   "outputs": [],
   "source": [
    "col = churn_data_train[churn_data_train.select_dtypes('object').columns]\n",
    "\n",
    "for c in col:\n",
    "    churn_data_train[c]=churn_data_train[c].astype('category')"
   ]
  },
  {
   "cell_type": "code",
   "execution_count": 24,
   "metadata": {},
   "outputs": [],
   "source": [
    "churn_data_train['NumberOfProducts']=churn_data_train['NumberOfProducts'].astype('category')\n",
    "churn_data_train['IsCreditCardCustomer']=churn_data_train['IsCreditCardCustomer'].astype('category')\n",
    "churn_data_train['ActiveMember']=churn_data_train['ActiveMember'].astype('category')\n",
    "churn_data_train['yearofEntry']=churn_data_train['yearofEntry'].astype('category')\n",
    "churn_data_train['Churn']=churn_data_train['Churn'].astype('category')"
   ]
  },
  {
   "cell_type": "code",
   "execution_count": 25,
   "metadata": {},
   "outputs": [
    {
     "data": {
      "text/plain": [
       "yearofEntry             category\n",
       "Gender                  category\n",
       "Location                category\n",
       "Education               category\n",
       "MaritalStatus           category\n",
       "Occupation              category\n",
       "Ownhouse                category\n",
       "CreditScore                int64\n",
       "AccountBalance           float64\n",
       "NumberOfProducts        category\n",
       "IsCreditCardCustomer    category\n",
       "ActiveMember            category\n",
       "Salary                   float64\n",
       "Churn                   category\n",
       "dtype: object"
      ]
     },
     "execution_count": 25,
     "metadata": {},
     "output_type": "execute_result"
    }
   ],
   "source": [
    "churn_data_train.dtypes"
   ]
  },
  {
   "cell_type": "markdown",
   "metadata": {},
   "source": [
    "### TypeCasting columns on Test Data"
   ]
  },
  {
   "cell_type": "code",
   "execution_count": 26,
   "metadata": {},
   "outputs": [],
   "source": [
    "col = churn_data_test[churn_data_test.select_dtypes('object').columns]\n",
    "\n",
    "for c in col:\n",
    "    churn_data_test[c]=churn_data_test[c].astype('category')"
   ]
  },
  {
   "cell_type": "code",
   "execution_count": 27,
   "metadata": {},
   "outputs": [],
   "source": [
    "churn_data_test['NumberOfProducts']=churn_data_test['NumberOfProducts'].astype('category')\n",
    "churn_data_test['IsCreditCardCustomer']=churn_data_test['IsCreditCardCustomer'].astype('category')\n",
    "churn_data_test['ActiveMember']=churn_data_test['ActiveMember'].astype('category')\n",
    "churn_data_test['yearofEntry']=churn_data_test['yearofEntry'].astype('category')\n"
   ]
  },
  {
   "cell_type": "code",
   "execution_count": 28,
   "metadata": {},
   "outputs": [
    {
     "data": {
      "text/plain": [
       "CustomerID              category\n",
       "CustomerName            category\n",
       "yearofBirth                int64\n",
       "monthofBirth               int64\n",
       "dayofBirth                 int64\n",
       "yearofEntry             category\n",
       "monthofEntry               int64\n",
       "dayofEntry                 int64\n",
       "Gender                  category\n",
       "Location                category\n",
       "Education               category\n",
       "MaritalStatus           category\n",
       "Occupation              category\n",
       "Ownhouse                category\n",
       "CreditScore                int64\n",
       "AccountBalance           float64\n",
       "NumberOfProducts        category\n",
       "IsCreditCardCustomer    category\n",
       "ActiveMember            category\n",
       "Salary                   float64\n",
       "dtype: object"
      ]
     },
     "execution_count": 28,
     "metadata": {},
     "output_type": "execute_result"
    }
   ],
   "source": [
    "churn_data_test.dtypes"
   ]
  },
  {
   "cell_type": "code",
   "execution_count": 29,
   "metadata": {},
   "outputs": [],
   "source": [
    "test_custId = churn_data_test['CustomerID']"
   ]
  },
  {
   "cell_type": "code",
   "execution_count": 30,
   "metadata": {},
   "outputs": [
    {
     "data": {
      "text/plain": [
       "0    C5993228\n",
       "1    C6546925\n",
       "2    C7491750\n",
       "3    C8462011\n",
       "4    C3187447\n",
       "Name: CustomerID, dtype: category\n",
       "Categories (1840, object): [C2001443, C2003319, C2004181, C2006361, ..., C8993145, C8993460, C8999043, C8999901]"
      ]
     },
     "execution_count": 30,
     "metadata": {},
     "output_type": "execute_result"
    }
   ],
   "source": [
    "test_custId.head()"
   ]
  },
  {
   "cell_type": "code",
   "execution_count": 31,
   "metadata": {},
   "outputs": [],
   "source": [
    "churn_data_test.drop('CustomerID',axis=1,inplace=True)\n",
    "churn_data_test.drop('CustomerName',axis=1,inplace=True)\n",
    "churn_data_test.drop('yearofBirth',axis=1,inplace=True)\n",
    "churn_data_test.drop('monthofBirth',axis=1,inplace=True)\n",
    "churn_data_test.drop('dayofBirth',axis=1,inplace=True)\n",
    "churn_data_test.drop('dayofEntry',axis=1,inplace=True)\n",
    "churn_data_test.drop('monthofEntry',axis=1,inplace=True)"
   ]
  },
  {
   "cell_type": "code",
   "execution_count": 32,
   "metadata": {},
   "outputs": [
    {
     "name": "stdout",
     "output_type": "stream",
     "text": [
      "Number of columns: 13\n"
     ]
    }
   ],
   "source": [
    "print(\"Number of columns:\",churn_data_test.shape[1])"
   ]
  },
  {
   "cell_type": "markdown",
   "metadata": {},
   "source": [
    "## Treating NA Values"
   ]
  },
  {
   "cell_type": "code",
   "execution_count": 33,
   "metadata": {},
   "outputs": [
    {
     "data": {
      "text/plain": [
       "yearofEntry                0\n",
       "Gender                     0\n",
       "Location                   0\n",
       "Education               1860\n",
       "MaritalStatus              0\n",
       "Occupation               781\n",
       "Ownhouse                 191\n",
       "CreditScore                0\n",
       "AccountBalance             0\n",
       "NumberOfProducts           0\n",
       "IsCreditCardCustomer       0\n",
       "ActiveMember               0\n",
       "Salary                     0\n",
       "Churn                      0\n",
       "dtype: int64"
      ]
     },
     "execution_count": 33,
     "metadata": {},
     "output_type": "execute_result"
    }
   ],
   "source": [
    "churn_data_train.isna().sum()"
   ]
  },
  {
   "cell_type": "code",
   "execution_count": 34,
   "metadata": {},
   "outputs": [
    {
     "data": {
      "text/plain": [
       "yearofEntry               0\n",
       "Gender                    0\n",
       "Location                  0\n",
       "Education               481\n",
       "MaritalStatus             0\n",
       "Occupation              177\n",
       "Ownhouse                 59\n",
       "CreditScore               0\n",
       "AccountBalance            0\n",
       "NumberOfProducts          0\n",
       "IsCreditCardCustomer      0\n",
       "ActiveMember              0\n",
       "Salary                    0\n",
       "dtype: int64"
      ]
     },
     "execution_count": 34,
     "metadata": {},
     "output_type": "execute_result"
    }
   ],
   "source": [
    "churn_data_test.isna().sum()"
   ]
  },
  {
   "cell_type": "markdown",
   "metadata": {},
   "source": [
    "## Splitting Numeric and Categorical Features"
   ]
  },
  {
   "cell_type": "code",
   "execution_count": 35,
   "metadata": {},
   "outputs": [
    {
     "data": {
      "text/plain": [
       "'Churn'"
      ]
     },
     "execution_count": 35,
     "metadata": {},
     "output_type": "execute_result"
    }
   ],
   "source": [
    "categorical_att = list(churn_data_train.select_dtypes(\"category\").columns)\n",
    "numeric_att = list(churn_data_train.columns.difference(categorical_att))\n",
    "categorical_att.pop()"
   ]
  },
  {
   "cell_type": "code",
   "execution_count": 36,
   "metadata": {},
   "outputs": [
    {
     "data": {
      "text/plain": [
       "['yearofEntry',\n",
       " 'Gender',\n",
       " 'Location',\n",
       " 'Education',\n",
       " 'MaritalStatus',\n",
       " 'Occupation',\n",
       " 'Ownhouse',\n",
       " 'NumberOfProducts',\n",
       " 'IsCreditCardCustomer',\n",
       " 'ActiveMember']"
      ]
     },
     "execution_count": 36,
     "metadata": {},
     "output_type": "execute_result"
    }
   ],
   "source": [
    "categorical_att"
   ]
  },
  {
   "cell_type": "code",
   "execution_count": 37,
   "metadata": {},
   "outputs": [
    {
     "data": {
      "text/plain": [
       "['AccountBalance', 'CreditScore', 'Salary']"
      ]
     },
     "execution_count": 37,
     "metadata": {},
     "output_type": "execute_result"
    }
   ],
   "source": [
    "numeric_att"
   ]
  },
  {
   "cell_type": "markdown",
   "metadata": {},
   "source": [
    "## Train-Test Split"
   ]
  },
  {
   "cell_type": "code",
   "execution_count": 38,
   "metadata": {},
   "outputs": [],
   "source": [
    "Train, Validation = train_test_split(churn_data_train,test_size=0.3)\n",
    "\n",
    "\n",
    "feature_train,target_train = Train.loc[:,Train.columns!='Churn'], Train.loc[:,'Churn']\n",
    "\n",
    "feature_test,target_test = Validation.loc[:,Validation.columns!='Churn'], Validation.loc[:,'Churn']"
   ]
  },
  {
   "cell_type": "code",
   "execution_count": 39,
   "metadata": {},
   "outputs": [
    {
     "data": {
      "text/plain": [
       "(5152, 13)"
      ]
     },
     "execution_count": 39,
     "metadata": {},
     "output_type": "execute_result"
    }
   ],
   "source": [
    "feature_train.shape"
   ]
  },
  {
   "cell_type": "code",
   "execution_count": 40,
   "metadata": {},
   "outputs": [
    {
     "data": {
      "text/plain": [
       "(2208, 13)"
      ]
     },
     "execution_count": 40,
     "metadata": {},
     "output_type": "execute_result"
    }
   ],
   "source": [
    "feature_test.shape"
   ]
  },
  {
   "cell_type": "code",
   "execution_count": 41,
   "metadata": {},
   "outputs": [
    {
     "data": {
      "text/plain": [
       "(5152,)"
      ]
     },
     "execution_count": 41,
     "metadata": {},
     "output_type": "execute_result"
    }
   ],
   "source": [
    "target_train.shape"
   ]
  },
  {
   "cell_type": "code",
   "execution_count": 42,
   "metadata": {},
   "outputs": [
    {
     "data": {
      "text/plain": [
       "(2208,)"
      ]
     },
     "execution_count": 42,
     "metadata": {},
     "output_type": "execute_result"
    }
   ],
   "source": [
    "target_test.shape"
   ]
  },
  {
   "cell_type": "code",
   "execution_count": 43,
   "metadata": {},
   "outputs": [
    {
     "data": {
      "text/plain": [
       "1153    0\n",
       "6767    0\n",
       "2798    1\n",
       "4500    1\n",
       "1365    0\n",
       "       ..\n",
       "6827    0\n",
       "1837    1\n",
       "4583    0\n",
       "136     1\n",
       "1590    0\n",
       "Name: Churn, Length: 5152, dtype: category\n",
       "Categories (2, int64): [0, 1]"
      ]
     },
     "execution_count": 43,
     "metadata": {},
     "output_type": "execute_result"
    }
   ],
   "source": [
    "target_train"
   ]
  },
  {
   "cell_type": "code",
   "execution_count": 44,
   "metadata": {
    "scrolled": true
   },
   "outputs": [
    {
     "data": {
      "text/plain": [
       "5424    0\n",
       "4351    1\n",
       "2036    0\n",
       "2719    0\n",
       "6032    0\n",
       "       ..\n",
       "5276    0\n",
       "4314    0\n",
       "1833    0\n",
       "3360    0\n",
       "3370    0\n",
       "Name: Churn, Length: 2208, dtype: category\n",
       "Categories (2, int64): [0, 1]"
      ]
     },
     "execution_count": 44,
     "metadata": {},
     "output_type": "execute_result"
    }
   ],
   "source": [
    "target_test"
   ]
  },
  {
   "cell_type": "markdown",
   "metadata": {},
   "source": [
    "## Building the Pipelines"
   ]
  },
  {
   "cell_type": "code",
   "execution_count": 45,
   "metadata": {},
   "outputs": [],
   "source": [
    "#imputing numerical variables\n",
    "num_trans = Pipeline(steps=[\n",
    "    ('imputer', SimpleImputer(strategy='median')),\n",
    "    ('scaler', StandardScaler())])\n",
    "\n",
    "#imputing categorical variables\n",
    "cat_trans = Pipeline(steps=[\n",
    "    ('imputer', SimpleImputer(strategy='most_frequent',fill_value=\"missing_value\")),\n",
    "    ('onehot', OneHotEncoder(handle_unknown='ignore'))])\n",
    "#merging the two transformers\n",
    "preprocessor = ColumnTransformer(\n",
    "    transformers=[\n",
    "        ('num', num_trans, numeric_att),\n",
    "        ('cat', cat_trans, categorical_att)])"
   ]
  },
  {
   "cell_type": "markdown",
   "metadata": {},
   "source": [
    "### USING SMOTE"
   ]
  },
  {
   "cell_type": "code",
   "execution_count": 46,
   "metadata": {},
   "outputs": [],
   "source": [
    "clf = Pipeline(steps=[('preprocessor', preprocessor)])\n",
    "\n",
    "X_train_pp = pd.DataFrame(clf.fit_transform(feature_train))\n",
    "X_test_pp = pd.DataFrame(clf.transform(feature_test))"
   ]
  },
  {
   "cell_type": "code",
   "execution_count": 47,
   "metadata": {},
   "outputs": [],
   "source": [
    "smote = SMOTE(random_state=0)\n",
    "\n",
    "\n",
    "os_data_X,os_data_y=smote.fit_sample(X_train_pp, target_train)\n",
    "\n",
    "os_data_X = pd.DataFrame(data=os_data_X)\n",
    "os_data_y= pd.DataFrame(data=os_data_y,columns=['Churn'])"
   ]
  },
  {
   "cell_type": "markdown",
   "metadata": {},
   "source": [
    "## Logistic Regression Model"
   ]
  },
  {
   "cell_type": "code",
   "execution_count": 48,
   "metadata": {},
   "outputs": [
    {
     "data": {
      "text/plain": [
       "Pipeline(memory=None,\n",
       "         steps=[('preprocessor',\n",
       "                 ColumnTransformer(n_jobs=None, remainder='drop',\n",
       "                                   sparse_threshold=0.3,\n",
       "                                   transformer_weights=None,\n",
       "                                   transformers=[('num',\n",
       "                                                  Pipeline(memory=None,\n",
       "                                                           steps=[('imputer',\n",
       "                                                                   SimpleImputer(add_indicator=False,\n",
       "                                                                                 copy=True,\n",
       "                                                                                 fill_value=None,\n",
       "                                                                                 missing_values=nan,\n",
       "                                                                                 strategy='median',\n",
       "                                                                                 verbose=0)),\n",
       "                                                                  ('scaler',\n",
       "                                                                   StandardScaler(copy=True,\n",
       "                                                                                  with_mean...\n",
       "                 PCA(copy=True, iterated_power='auto', n_components=None,\n",
       "                     random_state=None, svd_solver='auto', tol=0.0,\n",
       "                     whiten=False)),\n",
       "                ('classifier',\n",
       "                 LogisticRegression(C=1.0, class_weight=None, dual=False,\n",
       "                                    fit_intercept=True, intercept_scaling=1,\n",
       "                                    l1_ratio=None, max_iter=100,\n",
       "                                    multi_class='auto', n_jobs=None,\n",
       "                                    penalty='l2', random_state=None,\n",
       "                                    solver='lbfgs', tol=0.0001, verbose=0,\n",
       "                                    warm_start=False))],\n",
       "         verbose=False)"
      ]
     },
     "execution_count": 48,
     "metadata": {},
     "output_type": "execute_result"
    }
   ],
   "source": [
    "#Instantiating the Pipeline\n",
    "log_reg_pipeline = Pipeline(steps=[('preprocessor', preprocessor),('pca',decomposition.PCA()),\n",
    "                      ('classifier', LogisticRegression())])\n",
    "\n",
    "#fitting the train data on the model\n",
    "log_reg_pipeline.fit(feature_train,target_train)"
   ]
  },
  {
   "cell_type": "markdown",
   "metadata": {},
   "source": [
    "### Predicting on Train and validation data"
   ]
  },
  {
   "cell_type": "code",
   "execution_count": 49,
   "metadata": {},
   "outputs": [],
   "source": [
    "test_pred_log = log_reg_pipeline.predict(feature_test)\n",
    "train_pred_log = log_reg_pipeline.predict(feature_train)"
   ]
  },
  {
   "cell_type": "markdown",
   "metadata": {},
   "source": [
    "### Predicting on Test Data"
   ]
  },
  {
   "cell_type": "code",
   "execution_count": 50,
   "metadata": {},
   "outputs": [],
   "source": [
    "test_data_pred = log_reg_pipeline.predict(churn_data_test)"
   ]
  },
  {
   "cell_type": "code",
   "execution_count": 51,
   "metadata": {},
   "outputs": [
    {
     "data": {
      "text/plain": [
       "numpy.ndarray"
      ]
     },
     "execution_count": 51,
     "metadata": {},
     "output_type": "execute_result"
    }
   ],
   "source": [
    "type(test_data_pred)"
   ]
  },
  {
   "cell_type": "code",
   "execution_count": 286,
   "metadata": {},
   "outputs": [],
   "source": [
    "\n",
    "df_log = {\"CustomerID\":test_custId,\"Churn\":test_data_pred}\n",
    "pd.DataFrame(df_log).to_csv(\"LogisticRegression.csv\")"
   ]
  },
  {
   "cell_type": "markdown",
   "metadata": {},
   "source": [
    "### Model Evaluation"
   ]
  },
  {
   "cell_type": "code",
   "execution_count": 288,
   "metadata": {},
   "outputs": [
    {
     "data": {
      "text/plain": [
       "array([[1713,   45],\n",
       "       [ 349,  101]], dtype=int64)"
      ]
     },
     "execution_count": 288,
     "metadata": {},
     "output_type": "execute_result"
    }
   ],
   "source": [
    "confusion_mat = confusion_matrix(target_test,test_pred_log)\n",
    "confusion_mat"
   ]
  },
  {
   "cell_type": "code",
   "execution_count": 289,
   "metadata": {},
   "outputs": [
    {
     "name": "stdout",
     "output_type": "stream",
     "text": [
      "0.3389261744966443\n",
      "0.34202898550724636\n"
     ]
    }
   ],
   "source": [
    "print(f1_score(y_true = target_test, y_pred = test_pred_log))\n",
    "print(f1_score(y_true = target_train, y_pred = train_pred_log))"
   ]
  },
  {
   "cell_type": "code",
   "execution_count": 290,
   "metadata": {},
   "outputs": [
    {
     "name": "stdout",
     "output_type": "stream",
     "text": [
      "              precision    recall  f1-score   support\n",
      "\n",
      "           0       0.83      0.97      0.90      1758\n",
      "           1       0.69      0.22      0.34       450\n",
      "\n",
      "    accuracy                           0.82      2208\n",
      "   macro avg       0.76      0.60      0.62      2208\n",
      "weighted avg       0.80      0.82      0.78      2208\n",
      "\n"
     ]
    }
   ],
   "source": [
    "print(classification_report(target_test,test_pred_log))"
   ]
  },
  {
   "cell_type": "markdown",
   "metadata": {},
   "source": [
    "## Imputing the test data"
   ]
  },
  {
   "cell_type": "code",
   "execution_count": 291,
   "metadata": {},
   "outputs": [],
   "source": [
    "cat_test = list(churn_data_test.select_dtypes(\"category\").columns)\n",
    "num_test = list(churn_data_test.columns.difference(cat_test))\n",
    "\n",
    "# Imputing the Test Data\n",
    "imputer = SimpleImputer(strategy='median')\n",
    "imputer = imputer.fit(churn_data_test[num_test])\n",
    "\n",
    "\n",
    "churn_data_test[num_test] = imputer.transform(churn_data_test[num_test])\n",
    "\n",
    "# Standardising the Test Data\n",
    "scaler = StandardScaler()\n",
    "scaler.fit(churn_data_test[num_test])\n",
    "\n",
    "churn_data_test[num_test]=scaler.transform(churn_data_test[num_test])\n",
    "\n",
    "#Dummifying the categoical columns\n",
    "churn_data_test=pd.get_dummies(columns=cat_test,data=churn_data_test,drop_first=True)"
   ]
  },
  {
   "cell_type": "code",
   "execution_count": 292,
   "metadata": {},
   "outputs": [],
   "source": [
    "feature_train1 = pd.get_dummies(columns=categorical_att,data=feature_train,drop_first=True)\n",
    "feature_test1 = pd.get_dummies(columns=categorical_att,data=feature_test,drop_first=True)"
   ]
  },
  {
   "cell_type": "markdown",
   "metadata": {},
   "source": [
    "## Random Forest Model"
   ]
  },
  {
   "cell_type": "code",
   "execution_count": 293,
   "metadata": {},
   "outputs": [],
   "source": [
    "# Model Building\n",
    "rfc = RandomForestClassifier(n_jobs=-1, max_features='sqrt') \n",
    " \n",
    "# Use a grid over parameters of interest\n",
    "param_grid = { \n",
    "           \"n_estimators\" : [9, 18, 27, 36, 45, 54, 63],\n",
    "           \"max_depth\" : [2,3,5,7],\n",
    "           \"min_samples_leaf\" : [2, 4]}\n",
    "\n"
   ]
  },
  {
   "cell_type": "markdown",
   "metadata": {},
   "source": [
    "### Grid Search and fitting the train data on the model"
   ]
  },
  {
   "cell_type": "code",
   "execution_count": 294,
   "metadata": {},
   "outputs": [
    {
     "data": {
      "text/plain": [
       "GridSearchCV(cv=5, error_score=nan,\n",
       "             estimator=RandomForestClassifier(bootstrap=True, ccp_alpha=0.0,\n",
       "                                              class_weight=None,\n",
       "                                              criterion='gini', max_depth=None,\n",
       "                                              max_features='sqrt',\n",
       "                                              max_leaf_nodes=None,\n",
       "                                              max_samples=None,\n",
       "                                              min_impurity_decrease=0.0,\n",
       "                                              min_impurity_split=None,\n",
       "                                              min_samples_leaf=1,\n",
       "                                              min_samples_split=2,\n",
       "                                              min_weight_fraction_leaf=0.0,\n",
       "                                              n_estimators=100, n_jobs=-1,\n",
       "                                              oob_score=False,\n",
       "                                              random_state=None, verbose=0,\n",
       "                                              warm_start=False),\n",
       "             iid='deprecated', n_jobs=-1,\n",
       "             param_grid={'max_depth': [2, 3, 5, 7], 'min_samples_leaf': [2, 4],\n",
       "                         'n_estimators': [9, 18, 27, 36, 45, 54, 63]},\n",
       "             pre_dispatch='2*n_jobs', refit=True, return_train_score=False,\n",
       "             scoring='f1', verbose=0)"
      ]
     },
     "execution_count": 294,
     "metadata": {},
     "output_type": "execute_result"
    }
   ],
   "source": [
    "clf = GridSearchCV(estimator=rfc, param_grid=param_grid,n_jobs=-1,cv=5,\n",
    "                       scoring='f1')\n",
    "clf.fit(feature_train1, target_train)\n"
   ]
  },
  {
   "cell_type": "markdown",
   "metadata": {},
   "source": [
    "### Getting the best parameters"
   ]
  },
  {
   "cell_type": "code",
   "execution_count": 295,
   "metadata": {},
   "outputs": [
    {
     "name": "stdout",
     "output_type": "stream",
     "text": [
      "Best parameters set found on training set:\n",
      "\n",
      "\n",
      "{'max_depth': 7, 'min_samples_leaf': 2, 'n_estimators': 36}\n",
      "\n",
      "\n"
     ]
    }
   ],
   "source": [
    "print(\"Best parameters set found on training set:\")\n",
    "print(\"\\n\")\n",
    "print(clf.best_params_)\n",
    "print(\"\\n\")"
   ]
  },
  {
   "cell_type": "markdown",
   "metadata": {},
   "source": [
    "### Getting the best scores and best parameters"
   ]
  },
  {
   "cell_type": "code",
   "execution_count": 296,
   "metadata": {},
   "outputs": [
    {
     "name": "stdout",
     "output_type": "stream",
     "text": [
      "0.23136903183570526 {'max_depth': 7, 'min_samples_leaf': 2, 'n_estimators': 36}\n"
     ]
    }
   ],
   "source": [
    "print(clf.best_score_, clf.best_params_)"
   ]
  },
  {
   "cell_type": "markdown",
   "metadata": {},
   "source": [
    "### Getting the predictions on the train and test data"
   ]
  },
  {
   "cell_type": "code",
   "execution_count": 297,
   "metadata": {},
   "outputs": [],
   "source": [
    "test_pred_rf=clf.predict(feature_test1)\n",
    "train_pred_rf = clf.predict(feature_train1)\n"
   ]
  },
  {
   "cell_type": "markdown",
   "metadata": {},
   "source": [
    "### Model Evaluation"
   ]
  },
  {
   "cell_type": "code",
   "execution_count": 298,
   "metadata": {},
   "outputs": [
    {
     "name": "stdout",
     "output_type": "stream",
     "text": [
      "0.23076923076923078\n",
      "0.25228215767634854\n"
     ]
    }
   ],
   "source": [
    "print(f1_score(target_test,test_pred_rf))\n",
    "print(f1_score(y_true = target_train, y_pred = train_pred_rf))"
   ]
  },
  {
   "cell_type": "markdown",
   "metadata": {},
   "source": [
    "### Getting the predictions on the Test Data"
   ]
  },
  {
   "cell_type": "code",
   "execution_count": 299,
   "metadata": {},
   "outputs": [],
   "source": [
    "test_data_pred1= clf.predict(churn_data_test)\n",
    "df_rf = {\"CustomerID\":test_custId,\"Churn\":test_data_pred1}\n",
    "pd.DataFrame(df_rf).to_csv(\"RandomForest.csv\")"
   ]
  },
  {
   "cell_type": "markdown",
   "metadata": {},
   "source": [
    "## Random Forest Model With Class Weights Balanced"
   ]
  },
  {
   "cell_type": "markdown",
   "metadata": {},
   "source": [
    "### Model Building"
   ]
  },
  {
   "cell_type": "code",
   "execution_count": 300,
   "metadata": {},
   "outputs": [],
   "source": [
    "# Model Building\n",
    "rfc = RandomForestClassifier(n_jobs=-1, max_features='sqrt',class_weight='balanced') \n",
    " \n",
    "# Use a grid over parameters of interest\n",
    "param_grid = { \n",
    "           \"n_estimators\" : [9, 18, 27, 36, 45, 54, 63],\n",
    "           \"max_depth\" : [2,3,5,7],\n",
    "           \"min_samples_leaf\" : [2, 4]}\n",
    "\n"
   ]
  },
  {
   "cell_type": "markdown",
   "metadata": {},
   "source": [
    "### Grid Search and fitting train data to the model"
   ]
  },
  {
   "cell_type": "code",
   "execution_count": 301,
   "metadata": {},
   "outputs": [
    {
     "data": {
      "text/plain": [
       "GridSearchCV(cv=5, error_score=nan,\n",
       "             estimator=RandomForestClassifier(bootstrap=True, ccp_alpha=0.0,\n",
       "                                              class_weight='balanced',\n",
       "                                              criterion='gini', max_depth=None,\n",
       "                                              max_features='sqrt',\n",
       "                                              max_leaf_nodes=None,\n",
       "                                              max_samples=None,\n",
       "                                              min_impurity_decrease=0.0,\n",
       "                                              min_impurity_split=None,\n",
       "                                              min_samples_leaf=1,\n",
       "                                              min_samples_split=2,\n",
       "                                              min_weight_fraction_leaf=0.0,\n",
       "                                              n_estimators=100, n_jobs=-1,\n",
       "                                              oob_score=False,\n",
       "                                              random_state=None, verbose=0,\n",
       "                                              warm_start=False),\n",
       "             iid='deprecated', n_jobs=-1,\n",
       "             param_grid={'max_depth': [2, 3, 5, 7], 'min_samples_leaf': [2, 4],\n",
       "                         'n_estimators': [9, 18, 27, 36, 45, 54, 63]},\n",
       "             pre_dispatch='2*n_jobs', refit=True, return_train_score=False,\n",
       "             scoring='f1', verbose=0)"
      ]
     },
     "execution_count": 301,
     "metadata": {},
     "output_type": "execute_result"
    }
   ],
   "source": [
    "clf = GridSearchCV(estimator=rfc, param_grid=param_grid,n_jobs=-1,cv=5,\n",
    "                       scoring='f1')\n",
    "clf.fit(feature_train1, target_train)\n"
   ]
  },
  {
   "cell_type": "markdown",
   "metadata": {},
   "source": [
    "#### Finding the best parameters"
   ]
  },
  {
   "cell_type": "code",
   "execution_count": 302,
   "metadata": {},
   "outputs": [
    {
     "name": "stdout",
     "output_type": "stream",
     "text": [
      "Best parameters set found on training set:\n",
      "\n",
      "\n",
      "{'max_depth': 7, 'min_samples_leaf': 4, 'n_estimators': 63}\n",
      "\n",
      "\n"
     ]
    }
   ],
   "source": [
    "print(\"Best parameters set found on training set:\")\n",
    "print(\"\\n\")\n",
    "print(clf.best_params_)\n",
    "print(\"\\n\")"
   ]
  },
  {
   "cell_type": "markdown",
   "metadata": {},
   "source": [
    "#### Grid Scores"
   ]
  },
  {
   "cell_type": "code",
   "execution_count": 303,
   "metadata": {},
   "outputs": [
    {
     "name": "stdout",
     "output_type": "stream",
     "text": [
      "Grid scores on training set:\n",
      "\n",
      "\n",
      "0.452 for {'max_depth': 2, 'min_samples_leaf': 2, 'n_estimators': 9}\n",
      "0.460 for {'max_depth': 2, 'min_samples_leaf': 2, 'n_estimators': 18}\n",
      "0.470 for {'max_depth': 2, 'min_samples_leaf': 2, 'n_estimators': 27}\n",
      "0.456 for {'max_depth': 2, 'min_samples_leaf': 2, 'n_estimators': 36}\n",
      "0.466 for {'max_depth': 2, 'min_samples_leaf': 2, 'n_estimators': 45}\n",
      "0.483 for {'max_depth': 2, 'min_samples_leaf': 2, 'n_estimators': 54}\n",
      "0.477 for {'max_depth': 2, 'min_samples_leaf': 2, 'n_estimators': 63}\n",
      "0.456 for {'max_depth': 2, 'min_samples_leaf': 4, 'n_estimators': 9}\n",
      "0.470 for {'max_depth': 2, 'min_samples_leaf': 4, 'n_estimators': 18}\n",
      "0.476 for {'max_depth': 2, 'min_samples_leaf': 4, 'n_estimators': 27}\n",
      "0.467 for {'max_depth': 2, 'min_samples_leaf': 4, 'n_estimators': 36}\n",
      "0.472 for {'max_depth': 2, 'min_samples_leaf': 4, 'n_estimators': 45}\n",
      "0.465 for {'max_depth': 2, 'min_samples_leaf': 4, 'n_estimators': 54}\n",
      "0.470 for {'max_depth': 2, 'min_samples_leaf': 4, 'n_estimators': 63}\n",
      "0.453 for {'max_depth': 3, 'min_samples_leaf': 2, 'n_estimators': 9}\n",
      "0.465 for {'max_depth': 3, 'min_samples_leaf': 2, 'n_estimators': 18}\n",
      "0.470 for {'max_depth': 3, 'min_samples_leaf': 2, 'n_estimators': 27}\n",
      "0.470 for {'max_depth': 3, 'min_samples_leaf': 2, 'n_estimators': 36}\n",
      "0.479 for {'max_depth': 3, 'min_samples_leaf': 2, 'n_estimators': 45}\n",
      "0.478 for {'max_depth': 3, 'min_samples_leaf': 2, 'n_estimators': 54}\n",
      "0.483 for {'max_depth': 3, 'min_samples_leaf': 2, 'n_estimators': 63}\n",
      "0.462 for {'max_depth': 3, 'min_samples_leaf': 4, 'n_estimators': 9}\n",
      "0.474 for {'max_depth': 3, 'min_samples_leaf': 4, 'n_estimators': 18}\n",
      "0.480 for {'max_depth': 3, 'min_samples_leaf': 4, 'n_estimators': 27}\n",
      "0.477 for {'max_depth': 3, 'min_samples_leaf': 4, 'n_estimators': 36}\n",
      "0.477 for {'max_depth': 3, 'min_samples_leaf': 4, 'n_estimators': 45}\n",
      "0.473 for {'max_depth': 3, 'min_samples_leaf': 4, 'n_estimators': 54}\n",
      "0.469 for {'max_depth': 3, 'min_samples_leaf': 4, 'n_estimators': 63}\n",
      "0.478 for {'max_depth': 5, 'min_samples_leaf': 2, 'n_estimators': 9}\n",
      "0.483 for {'max_depth': 5, 'min_samples_leaf': 2, 'n_estimators': 18}\n",
      "0.489 for {'max_depth': 5, 'min_samples_leaf': 2, 'n_estimators': 27}\n",
      "0.485 for {'max_depth': 5, 'min_samples_leaf': 2, 'n_estimators': 36}\n",
      "0.492 for {'max_depth': 5, 'min_samples_leaf': 2, 'n_estimators': 45}\n",
      "0.495 for {'max_depth': 5, 'min_samples_leaf': 2, 'n_estimators': 54}\n",
      "0.491 for {'max_depth': 5, 'min_samples_leaf': 2, 'n_estimators': 63}\n",
      "0.481 for {'max_depth': 5, 'min_samples_leaf': 4, 'n_estimators': 9}\n",
      "0.488 for {'max_depth': 5, 'min_samples_leaf': 4, 'n_estimators': 18}\n",
      "0.479 for {'max_depth': 5, 'min_samples_leaf': 4, 'n_estimators': 27}\n",
      "0.490 for {'max_depth': 5, 'min_samples_leaf': 4, 'n_estimators': 36}\n",
      "0.495 for {'max_depth': 5, 'min_samples_leaf': 4, 'n_estimators': 45}\n",
      "0.488 for {'max_depth': 5, 'min_samples_leaf': 4, 'n_estimators': 54}\n",
      "0.490 for {'max_depth': 5, 'min_samples_leaf': 4, 'n_estimators': 63}\n",
      "0.495 for {'max_depth': 7, 'min_samples_leaf': 2, 'n_estimators': 9}\n",
      "0.493 for {'max_depth': 7, 'min_samples_leaf': 2, 'n_estimators': 18}\n",
      "0.497 for {'max_depth': 7, 'min_samples_leaf': 2, 'n_estimators': 27}\n",
      "0.498 for {'max_depth': 7, 'min_samples_leaf': 2, 'n_estimators': 36}\n",
      "0.494 for {'max_depth': 7, 'min_samples_leaf': 2, 'n_estimators': 45}\n",
      "0.500 for {'max_depth': 7, 'min_samples_leaf': 2, 'n_estimators': 54}\n",
      "0.498 for {'max_depth': 7, 'min_samples_leaf': 2, 'n_estimators': 63}\n",
      "0.484 for {'max_depth': 7, 'min_samples_leaf': 4, 'n_estimators': 9}\n",
      "0.496 for {'max_depth': 7, 'min_samples_leaf': 4, 'n_estimators': 18}\n",
      "0.498 for {'max_depth': 7, 'min_samples_leaf': 4, 'n_estimators': 27}\n",
      "0.500 for {'max_depth': 7, 'min_samples_leaf': 4, 'n_estimators': 36}\n",
      "0.496 for {'max_depth': 7, 'min_samples_leaf': 4, 'n_estimators': 45}\n",
      "0.501 for {'max_depth': 7, 'min_samples_leaf': 4, 'n_estimators': 54}\n",
      "0.505 for {'max_depth': 7, 'min_samples_leaf': 4, 'n_estimators': 63}\n"
     ]
    }
   ],
   "source": [
    "print(\"Grid scores on training set:\")\n",
    "print(\"\\n\")\n",
    "means = clf.cv_results_['mean_test_score']\n",
    "for mean, params in zip(means, clf.cv_results_['params']):\n",
    "        print(\"%0.3f for %r\"\n",
    "              % (mean, params))"
   ]
  },
  {
   "cell_type": "code",
   "execution_count": 304,
   "metadata": {},
   "outputs": [
    {
     "name": "stdout",
     "output_type": "stream",
     "text": [
      "0.5054047166571947 {'max_depth': 7, 'min_samples_leaf': 4, 'n_estimators': 63}\n"
     ]
    }
   ],
   "source": [
    "print(clf.best_score_, clf.best_params_)"
   ]
  },
  {
   "cell_type": "code",
   "execution_count": 305,
   "metadata": {},
   "outputs": [],
   "source": [
    "test_pred_rf1=clf.predict(feature_test1)\n",
    "train_pred_rf1 = clf.predict(feature_train1)"
   ]
  },
  {
   "cell_type": "markdown",
   "metadata": {},
   "source": [
    "### Model Evaluation"
   ]
  },
  {
   "cell_type": "code",
   "execution_count": 306,
   "metadata": {},
   "outputs": [
    {
     "name": "stdout",
     "output_type": "stream",
     "text": [
      "0.5224489795918367\n",
      "0.5484880083420229\n"
     ]
    }
   ],
   "source": [
    "print(f1_score(target_test,test_pred_rf1))\n",
    "print(f1_score(y_true = target_train, y_pred = train_pred_rf1))"
   ]
  },
  {
   "cell_type": "code",
   "execution_count": 307,
   "metadata": {},
   "outputs": [],
   "source": [
    "test_data_pred1= clf.predict(churn_data_test)\n",
    "df_rf = {\"CustomerID\":test_custId,\"Churn\":test_data_pred1}\n",
    "pd.DataFrame(df_rf).to_csv(\"RandomForest_Balanced.csv\")\n"
   ]
  },
  {
   "cell_type": "markdown",
   "metadata": {},
   "source": [
    "## GRADIENT BOOSTING"
   ]
  },
  {
   "cell_type": "code",
   "execution_count": 308,
   "metadata": {},
   "outputs": [],
   "source": [
    "GBM = GradientBoostingClassifier() \n",
    " \n",
    "# Use a grid over parameters of interest\n",
    "param_grid = { \n",
    "           \"n_estimators\" : [100,150],\n",
    "           \"max_depth\" : [5, 10],\n",
    "           \"learning_rate\" : [0.1,0.2]}\n",
    " \n",
    "CV_GBM = GridSearchCV(estimator=GBM, param_grid=param_grid, cv= 5)"
   ]
  },
  {
   "cell_type": "markdown",
   "metadata": {},
   "source": [
    "#### Fitting the model on the Train data"
   ]
  },
  {
   "cell_type": "code",
   "execution_count": 309,
   "metadata": {},
   "outputs": [
    {
     "data": {
      "text/plain": [
       "GridSearchCV(cv=5, error_score=nan,\n",
       "             estimator=GradientBoostingClassifier(ccp_alpha=0.0,\n",
       "                                                  criterion='friedman_mse',\n",
       "                                                  init=None, learning_rate=0.1,\n",
       "                                                  loss='deviance', max_depth=3,\n",
       "                                                  max_features=None,\n",
       "                                                  max_leaf_nodes=None,\n",
       "                                                  min_impurity_decrease=0.0,\n",
       "                                                  min_impurity_split=None,\n",
       "                                                  min_samples_leaf=1,\n",
       "                                                  min_samples_split=2,\n",
       "                                                  min_weight_fraction_leaf=0.0,\n",
       "                                                  n_estimators=100,\n",
       "                                                  n_iter_no_change=None,\n",
       "                                                  presort='deprecated',\n",
       "                                                  random_state=None,\n",
       "                                                  subsample=1.0, tol=0.0001,\n",
       "                                                  validation_fraction=0.1,\n",
       "                                                  verbose=0, warm_start=False),\n",
       "             iid='deprecated', n_jobs=None,\n",
       "             param_grid={'learning_rate': [0.1, 0.2], 'max_depth': [5, 10],\n",
       "                         'n_estimators': [100, 150]},\n",
       "             pre_dispatch='2*n_jobs', refit=True, return_train_score=False,\n",
       "             scoring=None, verbose=0)"
      ]
     },
     "execution_count": 309,
     "metadata": {},
     "output_type": "execute_result"
    }
   ],
   "source": [
    "CV_GBM.fit(feature_train1,target_train)"
   ]
  },
  {
   "cell_type": "markdown",
   "metadata": {},
   "source": [
    "#### Getting the best estimator"
   ]
  },
  {
   "cell_type": "code",
   "execution_count": 310,
   "metadata": {},
   "outputs": [
    {
     "name": "stdout",
     "output_type": "stream",
     "text": [
      "0.8278295179531607 {'learning_rate': 0.1, 'max_depth': 5, 'n_estimators': 100}\n"
     ]
    }
   ],
   "source": [
    "best_gbm_model = CV_GBM.best_estimator_\n",
    "print (CV_GBM.best_score_, CV_GBM.best_params_)"
   ]
  },
  {
   "cell_type": "markdown",
   "metadata": {},
   "source": [
    "### Getting the predictions on train and validation data"
   ]
  },
  {
   "cell_type": "code",
   "execution_count": 311,
   "metadata": {},
   "outputs": [],
   "source": [
    "test_pred_GB = best_gbm_model.predict(feature_test1)\n",
    "train_pred_GB = best_gbm_model.predict(feature_train1)"
   ]
  },
  {
   "cell_type": "markdown",
   "metadata": {},
   "source": [
    "### Model Evaluation"
   ]
  },
  {
   "cell_type": "code",
   "execution_count": 312,
   "metadata": {},
   "outputs": [
    {
     "name": "stdout",
     "output_type": "stream",
     "text": [
      "0.41781874039938555\n",
      "0.627450980392157\n"
     ]
    }
   ],
   "source": [
    "print(f1_score(test_pred_GB,target_test))\n",
    "print(f1_score(y_true = target_train, y_pred = train_pred_GB))"
   ]
  },
  {
   "cell_type": "code",
   "execution_count": 313,
   "metadata": {},
   "outputs": [],
   "source": [
    "test_data_pred1= best_gbm_model.predict(churn_data_test)\n",
    "df_rf = {\"CustomerID\":test_custId,\"Churn\":test_data_pred1}\n",
    "pd.DataFrame(df_rf).to_csv(\"GradientBoosting.csv\")"
   ]
  }
 ],
 "metadata": {
  "kernelspec": {
   "display_name": "Python 3",
   "language": "python",
   "name": "python3"
  },
  "language_info": {
   "codemirror_mode": {
    "name": "ipython",
    "version": 3
   },
   "file_extension": ".py",
   "mimetype": "text/x-python",
   "name": "python",
   "nbconvert_exporter": "python",
   "pygments_lexer": "ipython3",
   "version": "3.7.1"
  }
 },
 "nbformat": 4,
 "nbformat_minor": 2
}
